{
 "cells": [
  {
   "cell_type": "code",
   "execution_count": 1,
   "id": "26261f68-3a29-4dc8-a114-a2a41e7a26bd",
   "metadata": {},
   "outputs": [],
   "source": [
    "#Importing all the required libraries\n",
    "import pandas as pd\n",
    "import numpy as np\n",
    "import matplotlib.pyplot as plt\n",
    "import seaborn as sns\n",
    "import warnings\n",
    "warnings.filterwarnings(\"ignore\")"
   ]
  },
  {
   "cell_type": "code",
   "execution_count": 2,
   "id": "f7b6717d-47c1-4a40-8a72-fb1296d643c6",
   "metadata": {},
   "outputs": [],
   "source": [
    "#Combining all the 6 datasets into one dataset\n",
    "files = ['alarms-M1.csv',\n",
    "    'alarms-M2.csv',\n",
    "    'alarms-M3.csv',\n",
    "    'alarms-M4.csv',\n",
    "    'alarms-M5.csv',\n",
    "    'alarms-M6.csv']\n",
    "\n",
    "# Load and concatenate all datasets\n",
    "df_list = [pd.read_csv(file) for file in files]\n",
    "combined_df = pd.concat(df_list, ignore_index=True)\n",
    "\n",
    "# Save the combined dataset\n",
    "combined_df.to_csv('combined_new_dataset.csv', index=False)"
   ]
  }
 ],
 "metadata": {
  "kernelspec": {
   "display_name": "Python 3",
   "language": "python",
   "name": "python3"
  },
  "language_info": {
   "codemirror_mode": {
    "name": "ipython",
    "version": 3
   },
   "file_extension": ".py",
   "mimetype": "text/x-python",
   "name": "python",
   "nbconvert_exporter": "python",
   "pygments_lexer": "ipython3",
   "version": "3.9.12"
  }
 },
 "nbformat": 4,
 "nbformat_minor": 5
}
