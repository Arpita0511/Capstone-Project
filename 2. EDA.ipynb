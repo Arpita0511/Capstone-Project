{
 "cells": [
  {
   "cell_type": "code",
   "execution_count": 1,
   "id": "3eaa64fa",
   "metadata": {},
   "outputs": [],
   "source": [
    "#Importing all the required libraries\n",
    "import pandas as pd\n",
    "import numpy as np\n",
    "import matplotlib.pyplot as plt\n",
    "import seaborn as sns\n",
    "import warnings\n",
    "warnings.filterwarnings(\"ignore\")"
   ]
  },
  {
   "cell_type": "code",
   "execution_count": 2,
   "id": "cc58b9c8",
   "metadata": {},
   "outputs": [],
   "source": [
    "df = pd.read_csv(\"combined_new_dataset.csv\")"
   ]
  },
  {
   "cell_type": "code",
   "execution_count": 4,
   "id": "1e674e13",
   "metadata": {},
   "outputs": [
    {
     "data": {
      "text/plain": [
       "The value of 'redact' alert had occurred; but has returned to normal.                                         3162425\n",
       "The value of 'redact' was too low; but has now returned to normal.                                            2227230\n",
       "The value of 'redact' was too high; but has now returned to normal.                                           1741702\n",
       "The battery is not installed properly.                                                                        1586294\n",
       "The battery is now installed.                                                                                 1310530\n",
       "                                                                                                               ...   \n",
       "SP: Long-term increasing temperature rate of change violation cleared for RR.01.103.03.T.R at RR.01.103.03          1\n",
       "Rack PDU 1: High temperature threshold violation cleared for Temp Sensor                                            1\n",
       "THM: Long-term decreasing temperature rate of change violation cleared for 37.4611.E04 at 37.4611.E04               1\n",
       "INPUT_CB_OPEN Condition Present                                                                                     1\n",
       "The current value of 'redact' (6550 W) is too high.                                                                 1\n",
       "Name: AlarmMessage, Length: 40685, dtype: int64"
      ]
     },
     "execution_count": 4,
     "metadata": {},
     "output_type": "execute_result"
    }
   ],
   "source": [
    "df[\"AlarmMessage\"].value_counts()"
   ]
  },
  {
   "cell_type": "code",
   "execution_count": 3,
   "id": "6f5d401c",
   "metadata": {},
   "outputs": [
    {
     "data": {
      "text/plain": [
       "34822187"
      ]
     },
     "execution_count": 3,
     "metadata": {},
     "output_type": "execute_result"
    }
   ],
   "source": [
    "len(df)"
   ]
  },
  {
   "cell_type": "markdown",
   "id": "911752dd",
   "metadata": {},
   "source": [
    "There are total 4340656 rows including the missing values"
   ]
  },
  {
   "cell_type": "code",
   "execution_count": 4,
   "id": "15686218",
   "metadata": {},
   "outputs": [
    {
     "data": {
      "text/plain": [
       "Index(['AssetId', 'organizationid', 'organizationcountrycode', 'locationid',\n",
       "       'AssetType', 'AlarmLabel', 'AlarmMessage', 'Severity',\n",
       "       'ActivatedTimestamp', 'ClearedTimestamp', 'month', 'week'],\n",
       "      dtype='object')"
      ]
     },
     "execution_count": 4,
     "metadata": {},
     "output_type": "execute_result"
    }
   ],
   "source": [
    "#Exploring the different columns \n",
    "df.columns"
   ]
  },
  {
   "cell_type": "code",
   "execution_count": 5,
   "id": "500ea42d",
   "metadata": {},
   "outputs": [
    {
     "data": {
      "text/html": [
       "<div>\n",
       "<style scoped>\n",
       "    .dataframe tbody tr th:only-of-type {\n",
       "        vertical-align: middle;\n",
       "    }\n",
       "\n",
       "    .dataframe tbody tr th {\n",
       "        vertical-align: top;\n",
       "    }\n",
       "\n",
       "    .dataframe thead th {\n",
       "        text-align: right;\n",
       "    }\n",
       "</style>\n",
       "<table border=\"1\" class=\"dataframe\">\n",
       "  <thead>\n",
       "    <tr style=\"text-align: right;\">\n",
       "      <th></th>\n",
       "      <th>AssetId</th>\n",
       "      <th>organizationid</th>\n",
       "      <th>organizationcountrycode</th>\n",
       "      <th>locationid</th>\n",
       "      <th>AssetType</th>\n",
       "      <th>AlarmLabel</th>\n",
       "      <th>AlarmMessage</th>\n",
       "      <th>Severity</th>\n",
       "      <th>ActivatedTimestamp</th>\n",
       "      <th>ClearedTimestamp</th>\n",
       "      <th>month</th>\n",
       "      <th>week</th>\n",
       "    </tr>\n",
       "  </thead>\n",
       "  <tbody>\n",
       "    <tr>\n",
       "      <th>0</th>\n",
       "      <td>001e6d91-324b-4b99-84f8-9435148de9ce</td>\n",
       "      <td>5effecae-fdee-494a-bf38-d4cb5d7cc405</td>\n",
       "      <td>US</td>\n",
       "      <td>NaN</td>\n",
       "      <td>UPS</td>\n",
       "      <td>Battery Near End Of Life Cleared</td>\n",
       "      <td>The battery is no longer near the end of life.</td>\n",
       "      <td>WARNING</td>\n",
       "      <td>2021-01-17T23:32:55Z</td>\n",
       "      <td>2021-03-16T14:37:52Z</td>\n",
       "      <td>1.0</td>\n",
       "      <td>3.0</td>\n",
       "    </tr>\n",
       "    <tr>\n",
       "      <th>1</th>\n",
       "      <td>001e6d91-324b-4b99-84f8-9435148de9ce</td>\n",
       "      <td>5effecae-fdee-494a-bf38-d4cb5d7cc405</td>\n",
       "      <td>US</td>\n",
       "      <td>NaN</td>\n",
       "      <td>UPS</td>\n",
       "      <td>Power Failure Cleared</td>\n",
       "      <td>No longer on battery power.</td>\n",
       "      <td>WARNING</td>\n",
       "      <td>2021-01-08T20:55:56Z</td>\n",
       "      <td>2021-01-08T20:56:19Z</td>\n",
       "      <td>1.0</td>\n",
       "      <td>2.0</td>\n",
       "    </tr>\n",
       "    <tr>\n",
       "      <th>2</th>\n",
       "      <td>004209ba-f692-41b8-af30-5b51996f1abb</td>\n",
       "      <td>a3768a07-4e2d-4075-ab6b-66e3541fc6c4</td>\n",
       "      <td>US</td>\n",
       "      <td>275102b5-af38-456c-982b-7a6d33850e13</td>\n",
       "      <td>UPS</td>\n",
       "      <td>Device Communication Alert</td>\n",
       "      <td>Communication with the UPS \\\"redact\\\" has been...</td>\n",
       "      <td>CRITICAL</td>\n",
       "      <td>2021-01-08T20:28:05Z</td>\n",
       "      <td>2021-01-08T20:36:14Z</td>\n",
       "      <td>1.0</td>\n",
       "      <td>2.0</td>\n",
       "    </tr>\n",
       "    <tr>\n",
       "      <th>3</th>\n",
       "      <td>004209ba-f692-41b8-af30-5b51996f1abb</td>\n",
       "      <td>a3768a07-4e2d-4075-ab6b-66e3541fc6c4</td>\n",
       "      <td>US</td>\n",
       "      <td>275102b5-af38-456c-982b-7a6d33850e13</td>\n",
       "      <td>UPS</td>\n",
       "      <td>Device Communication Alert</td>\n",
       "      <td>Communication with the UPS \\\"redact\\\" has been...</td>\n",
       "      <td>CRITICAL</td>\n",
       "      <td>2021-01-29T11:51:23Z</td>\n",
       "      <td>2021-01-29T11:56:16Z</td>\n",
       "      <td>1.0</td>\n",
       "      <td>5.0</td>\n",
       "    </tr>\n",
       "    <tr>\n",
       "      <th>4</th>\n",
       "      <td>004209ba-f692-41b8-af30-5b51996f1abb</td>\n",
       "      <td>a3768a07-4e2d-4075-ab6b-66e3541fc6c4</td>\n",
       "      <td>US</td>\n",
       "      <td>275102b5-af38-456c-982b-7a6d33850e13</td>\n",
       "      <td>UPS</td>\n",
       "      <td>Device Communication Alert</td>\n",
       "      <td>Communication with the UPS \\\"redact\\\" has been...</td>\n",
       "      <td>CRITICAL</td>\n",
       "      <td>2021-01-29T09:41:23Z</td>\n",
       "      <td>2021-01-29T09:46:22Z</td>\n",
       "      <td>1.0</td>\n",
       "      <td>5.0</td>\n",
       "    </tr>\n",
       "  </tbody>\n",
       "</table>\n",
       "</div>"
      ],
      "text/plain": [
       "                                AssetId                        organizationid  \\\n",
       "0  001e6d91-324b-4b99-84f8-9435148de9ce  5effecae-fdee-494a-bf38-d4cb5d7cc405   \n",
       "1  001e6d91-324b-4b99-84f8-9435148de9ce  5effecae-fdee-494a-bf38-d4cb5d7cc405   \n",
       "2  004209ba-f692-41b8-af30-5b51996f1abb  a3768a07-4e2d-4075-ab6b-66e3541fc6c4   \n",
       "3  004209ba-f692-41b8-af30-5b51996f1abb  a3768a07-4e2d-4075-ab6b-66e3541fc6c4   \n",
       "4  004209ba-f692-41b8-af30-5b51996f1abb  a3768a07-4e2d-4075-ab6b-66e3541fc6c4   \n",
       "\n",
       "  organizationcountrycode                            locationid AssetType  \\\n",
       "0                      US                                   NaN       UPS   \n",
       "1                      US                                   NaN       UPS   \n",
       "2                      US  275102b5-af38-456c-982b-7a6d33850e13       UPS   \n",
       "3                      US  275102b5-af38-456c-982b-7a6d33850e13       UPS   \n",
       "4                      US  275102b5-af38-456c-982b-7a6d33850e13       UPS   \n",
       "\n",
       "                         AlarmLabel  \\\n",
       "0  Battery Near End Of Life Cleared   \n",
       "1             Power Failure Cleared   \n",
       "2        Device Communication Alert   \n",
       "3        Device Communication Alert   \n",
       "4        Device Communication Alert   \n",
       "\n",
       "                                        AlarmMessage  Severity  \\\n",
       "0     The battery is no longer near the end of life.   WARNING   \n",
       "1                        No longer on battery power.   WARNING   \n",
       "2  Communication with the UPS \\\"redact\\\" has been...  CRITICAL   \n",
       "3  Communication with the UPS \\\"redact\\\" has been...  CRITICAL   \n",
       "4  Communication with the UPS \\\"redact\\\" has been...  CRITICAL   \n",
       "\n",
       "     ActivatedTimestamp      ClearedTimestamp  month  week  \n",
       "0  2021-01-17T23:32:55Z  2021-03-16T14:37:52Z    1.0   3.0  \n",
       "1  2021-01-08T20:55:56Z  2021-01-08T20:56:19Z    1.0   2.0  \n",
       "2  2021-01-08T20:28:05Z  2021-01-08T20:36:14Z    1.0   2.0  \n",
       "3  2021-01-29T11:51:23Z  2021-01-29T11:56:16Z    1.0   5.0  \n",
       "4  2021-01-29T09:41:23Z  2021-01-29T09:46:22Z    1.0   5.0  "
      ]
     },
     "execution_count": 5,
     "metadata": {},
     "output_type": "execute_result"
    }
   ],
   "source": [
    "#exploring the first five rows of the dataset\n",
    "df.head(5)"
   ]
  },
  {
   "cell_type": "markdown",
   "id": "84da339f",
   "metadata": {},
   "source": [
    "Hnadling missing values"
   ]
  },
  {
   "cell_type": "code",
   "execution_count": 6,
   "id": "97ca7c68",
   "metadata": {},
   "outputs": [
    {
     "data": {
      "text/plain": [
       "AssetId                           0\n",
       "organizationid                    0\n",
       "organizationcountrycode        8362\n",
       "locationid                 21735453\n",
       "AssetType                         0\n",
       "AlarmLabel                        0\n",
       "AlarmMessage                      1\n",
       "Severity                          1\n",
       "ActivatedTimestamp                1\n",
       "ClearedTimestamp                  2\n",
       "month                             1\n",
       "week                              1\n",
       "dtype: int64"
      ]
     },
     "execution_count": 6,
     "metadata": {},
     "output_type": "execute_result"
    }
   ],
   "source": [
    "#checking for missing values\n",
    "df.isnull().sum()"
   ]
  },
  {
   "cell_type": "code",
   "execution_count": 7,
   "id": "57c32789",
   "metadata": {},
   "outputs": [
    {
     "name": "stdout",
     "output_type": "stream",
     "text": [
      "organizationid\n",
      "0021893f-dce8-49ea-9474-6f8016bccd0a      186\n",
      "0053e4c8-67df-4aea-adb7-aa312310a0b8     3396\n",
      "0068e078-2bbc-45e0-8eec-6a7ef255e528    16659\n",
      "00e6ea8b-8f1e-4542-a2f8-42b93d06493f       27\n",
      "011113a8-1f9a-4ec7-b69d-e3dedd8becbd      954\n",
      "                                        ...  \n",
      "fe8e8846-b802-4f69-9947-51a894786290     2568\n",
      "fe965ef8-0ee2-403c-a6f6-22fc59efc6e7        2\n",
      "fec40ebd-f815-4364-bd9b-c2f9ac9d2a2f    55694\n",
      "fec5610d-a7bb-4034-893f-2f80db16a8de       13\n",
      "ffa3d259-c61c-4eb1-b47a-a702433ec918      229\n",
      "Length: 2643, dtype: int64\n"
     ]
    }
   ],
   "source": [
    "# Check for AssetIds with all missing locationids\n",
    "all_missing_locationids = df[df['locationid'].isna()].groupby('organizationid').size()\n",
    "print(all_missing_locationids)"
   ]
  },
  {
   "cell_type": "code",
   "execution_count": 8,
   "id": "dd64f442",
   "metadata": {},
   "outputs": [],
   "source": [
    "# Adjust the mode calculation to handle completely missing groups\n",
    "mode_location_id = df.groupby('organizationid')['locationid'].agg(\n",
    "    lambda x: x.mode().iloc[0] if not x.mode().empty else \"Default Location\"\n",
    ")\n",
    "mode_location_id = mode_location_id.to_dict()\n",
    "\n",
    "# Replace NaN values in Location_id using the mapping\n",
    "df['locationid'] = df['locationid'].fillna(df['organizationid'].map(mode_location_id))"
   ]
  },
  {
   "cell_type": "code",
   "execution_count": 9,
   "id": "43d1230c",
   "metadata": {},
   "outputs": [
    {
     "name": "stdout",
     "output_type": "stream",
     "text": [
      "{'0021893f-dce8-49ea-9474-6f8016bccd0a': 'f5d95e4e-5715-4a00-b62d-e084813a795a', '0053e4c8-67df-4aea-adb7-aa312310a0b8': '21f5a3be-6cfc-4a20-8c37-5e5da758b862', '0068e078-2bbc-45e0-8eec-6a7ef255e528': '73bbcf7e-d53e-4d12-b345-e27e60b5342f', '00e6ea8b-8f1e-4542-a2f8-42b93d06493f': 'Default Location', '011113a8-1f9a-4ec7-b69d-e3dedd8becbd': 'Default Location'}\n",
      "0\n"
     ]
    }
   ],
   "source": [
    "# Print part of the mapping to check\n",
    "print({k: mode_location_id[k] for k in list(mode_location_id)[:5]})\n",
    "\n",
    "# Check how many values are still NaNb\n",
    "print(df['locationid'].isna().sum())"
   ]
  },
  {
   "cell_type": "code",
   "execution_count": 10,
   "id": "bd620b40",
   "metadata": {},
   "outputs": [
    {
     "data": {
      "text/html": [
       "<div>\n",
       "<style scoped>\n",
       "    .dataframe tbody tr th:only-of-type {\n",
       "        vertical-align: middle;\n",
       "    }\n",
       "\n",
       "    .dataframe tbody tr th {\n",
       "        vertical-align: top;\n",
       "    }\n",
       "\n",
       "    .dataframe thead th {\n",
       "        text-align: right;\n",
       "    }\n",
       "</style>\n",
       "<table border=\"1\" class=\"dataframe\">\n",
       "  <thead>\n",
       "    <tr style=\"text-align: right;\">\n",
       "      <th></th>\n",
       "      <th>AssetId</th>\n",
       "      <th>organizationid</th>\n",
       "      <th>organizationcountrycode</th>\n",
       "      <th>locationid</th>\n",
       "      <th>AssetType</th>\n",
       "      <th>AlarmLabel</th>\n",
       "      <th>AlarmMessage</th>\n",
       "      <th>Severity</th>\n",
       "      <th>ActivatedTimestamp</th>\n",
       "      <th>ClearedTimestamp</th>\n",
       "      <th>month</th>\n",
       "      <th>week</th>\n",
       "    </tr>\n",
       "  </thead>\n",
       "  <tbody>\n",
       "    <tr>\n",
       "      <th>0</th>\n",
       "      <td>001e6d91-324b-4b99-84f8-9435148de9ce</td>\n",
       "      <td>5effecae-fdee-494a-bf38-d4cb5d7cc405</td>\n",
       "      <td>US</td>\n",
       "      <td>Default Location</td>\n",
       "      <td>UPS</td>\n",
       "      <td>Battery Near End Of Life Cleared</td>\n",
       "      <td>The battery is no longer near the end of life.</td>\n",
       "      <td>WARNING</td>\n",
       "      <td>2021-01-17T23:32:55Z</td>\n",
       "      <td>2021-03-16T14:37:52Z</td>\n",
       "      <td>1.0</td>\n",
       "      <td>3.0</td>\n",
       "    </tr>\n",
       "    <tr>\n",
       "      <th>1</th>\n",
       "      <td>001e6d91-324b-4b99-84f8-9435148de9ce</td>\n",
       "      <td>5effecae-fdee-494a-bf38-d4cb5d7cc405</td>\n",
       "      <td>US</td>\n",
       "      <td>Default Location</td>\n",
       "      <td>UPS</td>\n",
       "      <td>Power Failure Cleared</td>\n",
       "      <td>No longer on battery power.</td>\n",
       "      <td>WARNING</td>\n",
       "      <td>2021-01-08T20:55:56Z</td>\n",
       "      <td>2021-01-08T20:56:19Z</td>\n",
       "      <td>1.0</td>\n",
       "      <td>2.0</td>\n",
       "    </tr>\n",
       "    <tr>\n",
       "      <th>2</th>\n",
       "      <td>004209ba-f692-41b8-af30-5b51996f1abb</td>\n",
       "      <td>a3768a07-4e2d-4075-ab6b-66e3541fc6c4</td>\n",
       "      <td>US</td>\n",
       "      <td>275102b5-af38-456c-982b-7a6d33850e13</td>\n",
       "      <td>UPS</td>\n",
       "      <td>Device Communication Alert</td>\n",
       "      <td>Communication with the UPS \\\"redact\\\" has been...</td>\n",
       "      <td>CRITICAL</td>\n",
       "      <td>2021-01-08T20:28:05Z</td>\n",
       "      <td>2021-01-08T20:36:14Z</td>\n",
       "      <td>1.0</td>\n",
       "      <td>2.0</td>\n",
       "    </tr>\n",
       "    <tr>\n",
       "      <th>3</th>\n",
       "      <td>004209ba-f692-41b8-af30-5b51996f1abb</td>\n",
       "      <td>a3768a07-4e2d-4075-ab6b-66e3541fc6c4</td>\n",
       "      <td>US</td>\n",
       "      <td>275102b5-af38-456c-982b-7a6d33850e13</td>\n",
       "      <td>UPS</td>\n",
       "      <td>Device Communication Alert</td>\n",
       "      <td>Communication with the UPS \\\"redact\\\" has been...</td>\n",
       "      <td>CRITICAL</td>\n",
       "      <td>2021-01-29T11:51:23Z</td>\n",
       "      <td>2021-01-29T11:56:16Z</td>\n",
       "      <td>1.0</td>\n",
       "      <td>5.0</td>\n",
       "    </tr>\n",
       "    <tr>\n",
       "      <th>4</th>\n",
       "      <td>004209ba-f692-41b8-af30-5b51996f1abb</td>\n",
       "      <td>a3768a07-4e2d-4075-ab6b-66e3541fc6c4</td>\n",
       "      <td>US</td>\n",
       "      <td>275102b5-af38-456c-982b-7a6d33850e13</td>\n",
       "      <td>UPS</td>\n",
       "      <td>Device Communication Alert</td>\n",
       "      <td>Communication with the UPS \\\"redact\\\" has been...</td>\n",
       "      <td>CRITICAL</td>\n",
       "      <td>2021-01-29T09:41:23Z</td>\n",
       "      <td>2021-01-29T09:46:22Z</td>\n",
       "      <td>1.0</td>\n",
       "      <td>5.0</td>\n",
       "    </tr>\n",
       "  </tbody>\n",
       "</table>\n",
       "</div>"
      ],
      "text/plain": [
       "                                AssetId                        organizationid  \\\n",
       "0  001e6d91-324b-4b99-84f8-9435148de9ce  5effecae-fdee-494a-bf38-d4cb5d7cc405   \n",
       "1  001e6d91-324b-4b99-84f8-9435148de9ce  5effecae-fdee-494a-bf38-d4cb5d7cc405   \n",
       "2  004209ba-f692-41b8-af30-5b51996f1abb  a3768a07-4e2d-4075-ab6b-66e3541fc6c4   \n",
       "3  004209ba-f692-41b8-af30-5b51996f1abb  a3768a07-4e2d-4075-ab6b-66e3541fc6c4   \n",
       "4  004209ba-f692-41b8-af30-5b51996f1abb  a3768a07-4e2d-4075-ab6b-66e3541fc6c4   \n",
       "\n",
       "  organizationcountrycode                            locationid AssetType  \\\n",
       "0                      US                      Default Location       UPS   \n",
       "1                      US                      Default Location       UPS   \n",
       "2                      US  275102b5-af38-456c-982b-7a6d33850e13       UPS   \n",
       "3                      US  275102b5-af38-456c-982b-7a6d33850e13       UPS   \n",
       "4                      US  275102b5-af38-456c-982b-7a6d33850e13       UPS   \n",
       "\n",
       "                         AlarmLabel  \\\n",
       "0  Battery Near End Of Life Cleared   \n",
       "1             Power Failure Cleared   \n",
       "2        Device Communication Alert   \n",
       "3        Device Communication Alert   \n",
       "4        Device Communication Alert   \n",
       "\n",
       "                                        AlarmMessage  Severity  \\\n",
       "0     The battery is no longer near the end of life.   WARNING   \n",
       "1                        No longer on battery power.   WARNING   \n",
       "2  Communication with the UPS \\\"redact\\\" has been...  CRITICAL   \n",
       "3  Communication with the UPS \\\"redact\\\" has been...  CRITICAL   \n",
       "4  Communication with the UPS \\\"redact\\\" has been...  CRITICAL   \n",
       "\n",
       "     ActivatedTimestamp      ClearedTimestamp  month  week  \n",
       "0  2021-01-17T23:32:55Z  2021-03-16T14:37:52Z    1.0   3.0  \n",
       "1  2021-01-08T20:55:56Z  2021-01-08T20:56:19Z    1.0   2.0  \n",
       "2  2021-01-08T20:28:05Z  2021-01-08T20:36:14Z    1.0   2.0  \n",
       "3  2021-01-29T11:51:23Z  2021-01-29T11:56:16Z    1.0   5.0  \n",
       "4  2021-01-29T09:41:23Z  2021-01-29T09:46:22Z    1.0   5.0  "
      ]
     },
     "execution_count": 10,
     "metadata": {},
     "output_type": "execute_result"
    }
   ],
   "source": [
    "df.head(5)"
   ]
  },
  {
   "cell_type": "code",
   "execution_count": 11,
   "id": "6a0036a9",
   "metadata": {},
   "outputs": [],
   "source": [
    "#I have removed the missing values of other columns as there were very less number of missing values of each column mentioned below as it wouldn't impact the further analysis\n",
    "df.dropna(subset=['organizationcountrycode'], inplace=True)\n",
    "df.dropna(subset=['AlarmMessage'], inplace=True)\n",
    "df.dropna(subset=['Severity'], inplace=True)\n",
    "df.dropna(subset=['ActivatedTimestamp'], inplace=True)\n",
    "df.dropna(subset=['ClearedTimestamp'], inplace=True)\n",
    "df.dropna(subset=['week'],inplace = True)"
   ]
  },
  {
   "cell_type": "code",
   "execution_count": 12,
   "id": "f1b6c7ae",
   "metadata": {},
   "outputs": [
    {
     "data": {
      "text/plain": [
       "AssetId                    0\n",
       "organizationid             0\n",
       "organizationcountrycode    0\n",
       "locationid                 0\n",
       "AssetType                  0\n",
       "AlarmLabel                 0\n",
       "AlarmMessage               0\n",
       "Severity                   0\n",
       "ActivatedTimestamp         0\n",
       "ClearedTimestamp           0\n",
       "month                      0\n",
       "week                       0\n",
       "dtype: int64"
      ]
     },
     "execution_count": 12,
     "metadata": {},
     "output_type": "execute_result"
    }
   ],
   "source": [
    "#checking if the missing values are handled properly\n",
    "df.isnull().sum()"
   ]
  },
  {
   "cell_type": "code",
   "execution_count": 13,
   "id": "cd6dfe95",
   "metadata": {},
   "outputs": [
    {
     "data": {
      "text/plain": [
       "34813823"
      ]
     },
     "execution_count": 13,
     "metadata": {},
     "output_type": "execute_result"
    }
   ],
   "source": [
    "#After handling the missing values there are 4339685\n",
    "len(df)"
   ]
  },
  {
   "cell_type": "markdown",
   "id": "94ec2577",
   "metadata": {},
   "source": [
    "Converting the datatype of week from float to category type as the week column is considered as ordinal column"
   ]
  },
  {
   "cell_type": "code",
   "execution_count": 14,
   "id": "596389f5",
   "metadata": {},
   "outputs": [
    {
     "data": {
      "text/plain": [
       "array([ 3.,  2.,  5.,  1.,  4.,  7.,  6.,  9.,  8., 11., 12., 13., 10.,\n",
       "       15., 16., 14., 17., 18., 19., 22., 20., 21., 24., 23., 26., 25.])"
      ]
     },
     "execution_count": 14,
     "metadata": {},
     "output_type": "execute_result"
    }
   ],
   "source": [
    "df[\"week\"].unique()"
   ]
  },
  {
   "cell_type": "code",
   "execution_count": 15,
   "id": "6ab56df6",
   "metadata": {},
   "outputs": [],
   "source": [
    "df['week'] = df['week'].astype('int')"
   ]
  },
  {
   "cell_type": "code",
   "execution_count": 16,
   "id": "8bcc3040",
   "metadata": {},
   "outputs": [
    {
     "data": {
      "text/plain": [
       "array([ 3,  2,  5,  1,  4,  7,  6,  9,  8, 11, 12, 13, 10, 15, 16, 14, 17,\n",
       "       18, 19, 22, 20, 21, 24, 23, 26, 25])"
      ]
     },
     "execution_count": 16,
     "metadata": {},
     "output_type": "execute_result"
    }
   ],
   "source": [
    "df[\"week\"].unique()"
   ]
  },
  {
   "cell_type": "code",
   "execution_count": 17,
   "id": "8d8bcaa4",
   "metadata": {},
   "outputs": [],
   "source": [
    "df[\"week\"] = df[\"week\"].astype(\"category\")"
   ]
  },
  {
   "cell_type": "code",
   "execution_count": 18,
   "id": "31796510",
   "metadata": {},
   "outputs": [
    {
     "data": {
      "text/plain": [
       "[3, 2, 5, 1, 4, ..., 21, 24, 23, 26, 25]\n",
       "Length: 26\n",
       "Categories (26, int64): [3, 2, 5, 1, ..., 24, 23, 26, 25]"
      ]
     },
     "execution_count": 18,
     "metadata": {},
     "output_type": "execute_result"
    }
   ],
   "source": [
    "df[\"week\"].unique()"
   ]
  },
  {
   "cell_type": "markdown",
   "id": "8b4607f5",
   "metadata": {},
   "source": [
    "Descriptive Statistics"
   ]
  },
  {
   "cell_type": "code",
   "execution_count": 19,
   "id": "89116bed",
   "metadata": {},
   "outputs": [
    {
     "data": {
      "text/html": [
       "<div>\n",
       "<style scoped>\n",
       "    .dataframe tbody tr th:only-of-type {\n",
       "        vertical-align: middle;\n",
       "    }\n",
       "\n",
       "    .dataframe tbody tr th {\n",
       "        vertical-align: top;\n",
       "    }\n",
       "\n",
       "    .dataframe thead th {\n",
       "        text-align: right;\n",
       "    }\n",
       "</style>\n",
       "<table border=\"1\" class=\"dataframe\">\n",
       "  <thead>\n",
       "    <tr style=\"text-align: right;\">\n",
       "      <th></th>\n",
       "      <th>AssetId</th>\n",
       "      <th>organizationid</th>\n",
       "      <th>organizationcountrycode</th>\n",
       "      <th>locationid</th>\n",
       "      <th>AssetType</th>\n",
       "      <th>AlarmLabel</th>\n",
       "      <th>AlarmMessage</th>\n",
       "      <th>Severity</th>\n",
       "      <th>ActivatedTimestamp</th>\n",
       "      <th>ClearedTimestamp</th>\n",
       "      <th>week</th>\n",
       "    </tr>\n",
       "  </thead>\n",
       "  <tbody>\n",
       "    <tr>\n",
       "      <th>count</th>\n",
       "      <td>34813823</td>\n",
       "      <td>34813823</td>\n",
       "      <td>34813823</td>\n",
       "      <td>34813823</td>\n",
       "      <td>34813823</td>\n",
       "      <td>34813823</td>\n",
       "      <td>34813823</td>\n",
       "      <td>34813823</td>\n",
       "      <td>34813823</td>\n",
       "      <td>34813823</td>\n",
       "      <td>34813823</td>\n",
       "    </tr>\n",
       "    <tr>\n",
       "      <th>unique</th>\n",
       "      <td>143027</td>\n",
       "      <td>3272</td>\n",
       "      <td>98</td>\n",
       "      <td>10296</td>\n",
       "      <td>34</td>\n",
       "      <td>10756</td>\n",
       "      <td>40663</td>\n",
       "      <td>5</td>\n",
       "      <td>13259247</td>\n",
       "      <td>13293106</td>\n",
       "      <td>26</td>\n",
       "    </tr>\n",
       "    <tr>\n",
       "      <th>top</th>\n",
       "      <td>fd67b750-cb04-4bee-9f03-d829976135d2</td>\n",
       "      <td>f86de2dc-3bde-429a-94af-0f0850e10cca</td>\n",
       "      <td>US</td>\n",
       "      <td>Default Location</td>\n",
       "      <td>UPS</td>\n",
       "      <td>NetBotz Appliance Alarm</td>\n",
       "      <td>The value of 'redact' alert had occurred; but ...</td>\n",
       "      <td>CRITICAL</td>\n",
       "      <td>2021-01-20T18:27:13Z</td>\n",
       "      <td>2021-08-31T17:12:41Z</td>\n",
       "      <td>23</td>\n",
       "    </tr>\n",
       "    <tr>\n",
       "      <th>freq</th>\n",
       "      <td>656867</td>\n",
       "      <td>1629648</td>\n",
       "      <td>19396252</td>\n",
       "      <td>12135126</td>\n",
       "      <td>11805752</td>\n",
       "      <td>8256807</td>\n",
       "      <td>3162341</td>\n",
       "      <td>15028633</td>\n",
       "      <td>224</td>\n",
       "      <td>1164</td>\n",
       "      <td>1673284</td>\n",
       "    </tr>\n",
       "  </tbody>\n",
       "</table>\n",
       "</div>"
      ],
      "text/plain": [
       "                                     AssetId  \\\n",
       "count                               34813823   \n",
       "unique                                143027   \n",
       "top     fd67b750-cb04-4bee-9f03-d829976135d2   \n",
       "freq                                  656867   \n",
       "\n",
       "                              organizationid organizationcountrycode  \\\n",
       "count                               34813823                34813823   \n",
       "unique                                  3272                      98   \n",
       "top     f86de2dc-3bde-429a-94af-0f0850e10cca                      US   \n",
       "freq                                 1629648                19396252   \n",
       "\n",
       "              locationid AssetType               AlarmLabel  \\\n",
       "count           34813823  34813823                 34813823   \n",
       "unique             10296        34                    10756   \n",
       "top     Default Location       UPS  NetBotz Appliance Alarm   \n",
       "freq            12135126  11805752                  8256807   \n",
       "\n",
       "                                             AlarmMessage  Severity  \\\n",
       "count                                            34813823  34813823   \n",
       "unique                                              40663         5   \n",
       "top     The value of 'redact' alert had occurred; but ...  CRITICAL   \n",
       "freq                                              3162341  15028633   \n",
       "\n",
       "          ActivatedTimestamp      ClearedTimestamp      week  \n",
       "count               34813823              34813823  34813823  \n",
       "unique              13259247              13293106        26  \n",
       "top     2021-01-20T18:27:13Z  2021-08-31T17:12:41Z        23  \n",
       "freq                     224                  1164   1673284  "
      ]
     },
     "execution_count": 19,
     "metadata": {},
     "output_type": "execute_result"
    }
   ],
   "source": [
    "descriptive_stats = df.describe(include=['category','object'])\n",
    "descriptive_stats"
   ]
  },
  {
   "cell_type": "markdown",
   "id": "5d040817",
   "metadata": {},
   "source": [
    "We can observe from the above statistics that the count of each variable is 4339685 indicating there are no missing values. There are different number of unique values for different variables. AlarmLabel being our response variable has 2955 unique values which are to be group. The RPDU has the highest frequency in Assettype indicating that the problems occur in this asset type mostly.Coming to Severity, The critical Severity has the highest frequency "
   ]
  },
  {
   "cell_type": "code",
   "execution_count": null,
   "id": "b7fca903",
   "metadata": {},
   "outputs": [],
   "source": []
  },
  {
   "cell_type": "markdown",
   "id": "841ae246",
   "metadata": {},
   "source": [
    "Distribution of Alarms by week"
   ]
  },
  {
   "cell_type": "code",
   "execution_count": 20,
   "id": "f906f6a7",
   "metadata": {},
   "outputs": [
    {
     "data": {
      "image/png": "[encoded data removed]",
      "text/plain": [
       "<Figure size 864x504 with 1 Axes>"
      ]
     },
     "metadata": {
      "needs_background": "light"
     },
     "output_type": "display_data"
    }
   ],
   "source": [
    "week_counts = df['week'].value_counts().sort_index()\n",
    "# Creating the line plot\n",
    "plt.figure(figsize=(12, 7))  \n",
    "plt.plot(week_counts.index, week_counts.values, marker='o', linestyle='-', color='b') \n",
    "\n",
    "# Adding titles and labels\n",
    "plt.title('Figure 1:Frequency of Each Week')\n",
    "plt.xlabel('Week Number')\n",
    "plt.ylabel('Frequency')\n",
    "\n",
    "# Setting the x-ticks to ensure every week number is shown\n",
    "plt.xticks(week_counts.index)  # Ensure every week is labeled\n",
    "\n",
    "# Optionally, you can add a grid for better readability\n",
    "plt.grid(True)\n",
    "\n",
    "# Show the plot\n",
    "plt.show()"
   ]
  },
  {
   "cell_type": "markdown",
   "id": "478ee011",
   "metadata": {},
   "source": [
    "From the figure 1 we can observe that there is a sudden increase in the alarms from week 8 to week 10 and then no significant decrease. It could be interesting to know why."
   ]
  },
  {
   "cell_type": "code",
   "execution_count": 23,
   "id": "93be8eae",
   "metadata": {},
   "outputs": [
    {
     "data": {
      "text/plain": [
       "<Figure size 1296x720 with 0 Axes>"
      ]
     },
     "metadata": {},
     "output_type": "display_data"
    },
    {
     "data": {
      "image/png": "[encoded data removed]",
      "text/plain": [
       "<Figure size 1296x720 with 1 Axes>"
      ]
     },
     "metadata": {
      "needs_background": "light"
     },
     "output_type": "display_data"
    }
   ],
   "source": [
    "# Define the severity order\n",
    "severity_order = ['FAIL', 'CRITICAL', 'ERROR', 'WARNING', 'INFO']\n",
    "\n",
    "# Cross-tabulation of severity and week\n",
    "ct = pd.crosstab(df['week'], df['Severity'])\n",
    "\n",
    "# Reorder the columns according to the specified severity order\n",
    "ct = ct[severity_order]\n",
    "\n",
    "# Plotting the stacked bar chart\n",
    "plt.figure(figsize=(18, 10))  # Adjusted figure size\n",
    "ax = ct.plot(kind='bar', stacked=True, colormap='autumn', figsize=(18, 10))  # Set figure size here as well\n",
    "\n",
    "# Customize the legend\n",
    "ax.legend(title='Severity', bbox_to_anchor=(1.05, 1), loc='upper left')  # Move legend outside the plot\n",
    "\n",
    "# Set the title and labels\n",
    "plt.title('Figure 2: Severity Levels by Week')\n",
    "plt.xlabel('Week')\n",
    "plt.ylabel('Frequency')\n",
    "\n",
    "# Show the plot\n",
    "plt.show()"
   ]
  },
  {
   "cell_type": "markdown",
   "id": "07cdd74f",
   "metadata": {},
   "source": [
    "From the figure 2,the frequency of FAILs appears to be consistently high throughout the weeks, showing a notable volume compared to other categories. CRITICAL events also present substantial numbers but with some variability over time. The ERROR category demonstrates a general decreasing trend, particularly in the later weeks. WARNINGs and INFO, while present, are less frequent. This visualization helps in understanding temporal trends and urgency in addressing different severity levels within an operational context."
   ]
  },
  {
   "cell_type": "code",
   "execution_count": 24,
   "id": "fe437f5f",
   "metadata": {},
   "outputs": [
    {
     "data": {
      "image/png": "[encoded data removed]",
      "text/plain": [
       "<Figure size 720x432 with 1 Axes>"
      ]
     },
     "metadata": {
      "needs_background": "light"
     },
     "output_type": "display_data"
    }
   ],
   "source": [
    "# Count the occurrences of each severity level\n",
    "severity_counts = df['Severity'].value_counts()\n",
    "\n",
    "# Reorder the index based on your specific order\n",
    "order = ['FAIL', 'CRITICAL', 'ERROR', 'WARNING', 'INFO']\n",
    "severity_counts = severity_counts.reindex(order)\n",
    "\n",
    "# Define colors for each severity level\n",
    "colors = ['red', 'blue', 'green', 'orange', 'purple'] \n",
    "\n",
    "# Creating the bar plot\n",
    "plt.figure(figsize=(10, 6))\n",
    "severity_counts.plot(kind='bar', color=colors)\n",
    "plt.title('Figure 3: Frequency of Severity')\n",
    "plt.xlabel('Severity')\n",
    "plt.ylabel('Count')\n",
    "plt.xticks(rotation=0)  # Keeps the labels horizontal for better readability\n",
    "plt.show()"
   ]
  },
  {
   "cell_type": "markdown",
   "id": "7d383ee1",
   "metadata": {},
   "source": [
    "We have already seen in descriptive statistics that highest frequently occuring severity is \"Critical\". The lowest frequent severity is \"Fail\" which means that most of the issues raised by alarm are being resolved without causing the device to fail."
   ]
  },
  {
   "cell_type": "code",
   "execution_count": null,
   "id": "ca4c06e3",
   "metadata": {},
   "outputs": [],
   "source": []
  },
  {
   "cell_type": "markdown",
   "id": "7289beba",
   "metadata": {},
   "source": [
    "Feature Engineering"
   ]
  },
  {
   "cell_type": "markdown",
   "id": "537d3063",
   "metadata": {},
   "source": [
    "I have derived a new variable named \"Resolution_time\" from the existing columns named \"Activation timestamp\" and \"Cleared Timestamp\". Indicating the time taken to resolve the issues."
   ]
  },
  {
   "cell_type": "code",
   "execution_count": 25,
   "id": "08f85cbd",
   "metadata": {},
   "outputs": [
    {
     "data": {
      "text/plain": [
       "0           82984.950000\n",
       "1               0.383333\n",
       "2               8.150000\n",
       "3               4.883333\n",
       "4               4.983333\n",
       "                ...     \n",
       "34822182       19.466667\n",
       "34822183       10.733333\n",
       "34822184       13.833333\n",
       "34822185       10.700000\n",
       "34822186      309.033333\n",
       "Name: ResolutionTimeMinutes, Length: 34813823, dtype: float64"
      ]
     },
     "execution_count": 25,
     "metadata": {},
     "output_type": "execute_result"
    }
   ],
   "source": [
    "from datetime import datetime, timedelta, timezone\n",
    "\n",
    "def calculate_resolution_time(row):\n",
    "    \"\"\"\n",
    "    Calculate the time taken to resolve an event in minutes.\n",
    "\n",
    "    Parameters:\n",
    "    - row (pandas Series): Row containing 'ActivatedTimestamp' and 'ClearedTimestamp'.\n",
    "\n",
    "    Returns:\n",
    "    - resolution_time_minutes (float): Time taken to resolve the event in minutes.\n",
    "    \"\"\"\n",
    "    # Strip the 'Z' and parse the datetime\n",
    "    activated_time = datetime.fromisoformat(row['ActivatedTimestamp'].rstrip('Z'))\n",
    "    cleared_time = datetime.fromisoformat(row['ClearedTimestamp'].rstrip('Z'))\n",
    "\n",
    "    # If you need the times to be in UTC explicitly\n",
    "    activated_time = activated_time.replace(tzinfo=timezone.utc)\n",
    "    cleared_time = cleared_time.replace(tzinfo=timezone.utc)\n",
    "\n",
    "    # Calculate the resolution time\n",
    "    resolution_time = cleared_time - activated_time\n",
    "    resolution_time_minutes = resolution_time.total_seconds() / 60  # Convert to minutes\n",
    "    return resolution_time_minutes\n",
    "# Apply the function to each row of the DataFrame\n",
    "df['ResolutionTimeMinutes'] = df.apply(calculate_resolution_time, axis=1)\n",
    "\n",
    "# Display the DataFrame with the resolution time in minutes\n",
    "df['ResolutionTimeMinutes']\n"
   ]
  },
  {
   "cell_type": "code",
   "execution_count": 26,
   "id": "6da2180c",
   "metadata": {},
   "outputs": [
    {
     "data": {
      "image/png": "[encoded data removed]",
      "text/plain": [
       "<Figure size 720x432 with 1 Axes>"
      ]
     },
     "metadata": {
      "needs_background": "light"
     },
     "output_type": "display_data"
    }
   ],
   "source": [
    "plt.figure(figsize=(10, 6))\n",
    "plt.hist(df['ResolutionTimeMinutes'], bins=50, color='purple', edgecolor='black', log=True)\n",
    "plt.xlabel('Resolution Time')\n",
    "plt.ylabel('Log Frequency')\n",
    "plt.title('Figure 4: Histogram of Resolution Times in Minutes (Log Scale)')\n",
    "plt.xlim(0, 1000000)  # Focusing on the most relevant range\n",
    "plt.grid(True, which=\"both\", linestyle='--', linewidth=0.5)  # Adding grid lines for better readability\n",
    "plt.show()"
   ]
  },
  {
   "cell_type": "code",
   "execution_count": 27,
   "id": "f87d8bf4",
   "metadata": {},
   "outputs": [
    {
     "data": {
      "text/plain": [
       "count    3.481382e+07\n",
       "mean     1.444753e+02\n",
       "std      4.205764e+03\n",
       "min     -2.992593e+05\n",
       "25%      1.333333e-01\n",
       "50%      5.000000e-01\n",
       "75%      4.750000e+00\n",
       "max      5.070408e+06\n",
       "Name: ResolutionTimeMinutes, dtype: float64"
      ]
     },
     "execution_count": 27,
     "metadata": {},
     "output_type": "execute_result"
    }
   ],
   "source": [
    "df[\"ResolutionTimeMinutes\"].describe()"
   ]
  },
  {
   "cell_type": "code",
   "execution_count": 28,
   "id": "a3e0e765",
   "metadata": {},
   "outputs": [
    {
     "data": {
      "image/png": "[encoded data removed]",
      "text/plain": [
       "<Figure size 432x288 with 1 Axes>"
      ]
     },
     "metadata": {
      "needs_background": "light"
     },
     "output_type": "display_data"
    }
   ],
   "source": [
    "import matplotlib.pyplot as plt\n",
    "import seaborn as sns\n",
    "\n",
    "# Assuming 'ResolutionTimeMinutes' is already in minutes\n",
    "sns.boxplot(x='Severity', y='ResolutionTimeMinutes', data=df)\n",
    "plt.title('Resolution Time by Severity Levels')\n",
    "plt.xlabel('Severity')\n",
    "plt.ylabel('Resolution Time')\n",
    "plt.yscale('log')  # Use logarithmic scale if data spans several orders of magnitude\n",
    "plt.xticks(rotation=45)  # Rotate labels if they overlap or for better readability\n",
    "plt.show()"
   ]
  },
  {
   "cell_type": "code",
   "execution_count": 29,
   "id": "01fd176d",
   "metadata": {},
   "outputs": [
    {
     "data": {
      "image/png": "[encoded data removed]",
      "text/plain": [
       "<Figure size 720x504 with 1 Axes>"
      ]
     },
     "metadata": {},
     "output_type": "display_data"
    }
   ],
   "source": [
    "import matplotlib.pyplot as plt\n",
    "\n",
    "# Count the occurrences of each severity\n",
    "severity_counts = df['Severity'].value_counts()\n",
    "\n",
    "# Plotting the pie chart\n",
    "plt.figure(figsize=(10, 7))\n",
    "plt.pie(severity_counts, labels=severity_counts.index, autopct='%1.1f%%', startangle=140)\n",
    "plt.title('Distribution of Severity Levels')\n",
    "plt.axis('equal')  # Equal aspect ratio ensures that pie is drawn as a circle.\n",
    "plt.show()"
   ]
  },
  {
   "cell_type": "code",
   "execution_count": 30,
   "id": "48239ce4",
   "metadata": {},
   "outputs": [
    {
     "data": {
      "image/png": "[encoded data removed]",
      "text/plain": [
       "<Figure size 648x432 with 5 Axes>"
      ]
     },
     "metadata": {
      "needs_background": "light"
     },
     "output_type": "display_data"
    }
   ],
   "source": [
    "# Create a histogram with a facet grid to separate each severity level\n",
    "g = sns.FacetGrid(df, col='Severity', col_wrap=3, height=3)\n",
    "g.map(sns.distplot, 'ResolutionTimeMinutes', bins=30, kde=False, hist=True)\n",
    "\n",
    "# Additional settings for better readability and layout adjustments\n",
    "g.set_titles('{col_name} Severity')\n",
    "g.set_axis_labels('Resolution Time (Minutes)', 'Frequency')\n",
    "g.set(xscale='log')  # Use logarithmic scale if data spans several orders of magnitude\n",
    "\n",
    "# Adjusting the layout to prevent overlap\n",
    "plt.tight_layout()\n",
    "\n",
    "# Show the plot\n",
    "plt.show()"
   ]
  },
  {
   "cell_type": "markdown",
   "id": "8a12adb8",
   "metadata": {},
   "source": [
    " The majority of resolution times are concentrated at lower values, with the highest frequency occurring at the shortest durations close to zero. As resolution time increases, the frequency gradually declines, indicating fewer events take longer to resolve. Notably, there is a long tail extending up to 500,000 minutes, showing that while rare, some events take significantly longer to resolve. This suggests a skewed distribution where most resolutions are quick, but a non-negligible number of cases require extended periods, potentially indicating complex issues or bottlenecks in the resolution process."
   ]
  },
  {
   "cell_type": "code",
   "execution_count": null,
   "id": "2796168e",
   "metadata": {},
   "outputs": [],
   "source": []
  },
  {
   "cell_type": "markdown",
   "id": "c71cd23e",
   "metadata": {},
   "source": [
    "Exploring the frequency distribution of AssetType "
   ]
  },
  {
   "cell_type": "code",
   "execution_count": 31,
   "id": "c05515d6",
   "metadata": {},
   "outputs": [
    {
     "data": {
      "text/html": [
       "<div>\n",
       "<style scoped>\n",
       "    .dataframe tbody tr th:only-of-type {\n",
       "        vertical-align: middle;\n",
       "    }\n",
       "\n",
       "    .dataframe tbody tr th {\n",
       "        vertical-align: top;\n",
       "    }\n",
       "\n",
       "    .dataframe thead th {\n",
       "        text-align: right;\n",
       "    }\n",
       "</style>\n",
       "<table border=\"1\" class=\"dataframe\">\n",
       "  <thead>\n",
       "    <tr style=\"text-align: right;\">\n",
       "      <th></th>\n",
       "      <th>Asset Type</th>\n",
       "      <th>Frequency</th>\n",
       "    </tr>\n",
       "  </thead>\n",
       "  <tbody>\n",
       "    <tr>\n",
       "      <th>0</th>\n",
       "      <td>UPS</td>\n",
       "      <td>11805752</td>\n",
       "    </tr>\n",
       "    <tr>\n",
       "      <th>1</th>\n",
       "      <td>RPDU</td>\n",
       "      <td>8765783</td>\n",
       "    </tr>\n",
       "    <tr>\n",
       "      <th>2</th>\n",
       "      <td>POD</td>\n",
       "      <td>4614883</td>\n",
       "    </tr>\n",
       "    <tr>\n",
       "      <th>3</th>\n",
       "      <td>CAMERA</td>\n",
       "      <td>2523722</td>\n",
       "    </tr>\n",
       "    <tr>\n",
       "      <th>4</th>\n",
       "      <td>EMS</td>\n",
       "      <td>1830929</td>\n",
       "    </tr>\n",
       "    <tr>\n",
       "      <th>5</th>\n",
       "      <td>CRAC</td>\n",
       "      <td>867678</td>\n",
       "    </tr>\n",
       "    <tr>\n",
       "      <th>6</th>\n",
       "      <td>NETBOTZ_WALL_APPLIANCE</td>\n",
       "      <td>848547</td>\n",
       "    </tr>\n",
       "    <tr>\n",
       "      <th>7</th>\n",
       "      <td>NETBOTZ_RACK_APPLIANCE</td>\n",
       "      <td>843905</td>\n",
       "    </tr>\n",
       "    <tr>\n",
       "      <th>8</th>\n",
       "      <td>RACK_MANAGER</td>\n",
       "      <td>795420</td>\n",
       "    </tr>\n",
       "    <tr>\n",
       "      <th>9</th>\n",
       "      <td>ATS</td>\n",
       "      <td>787119</td>\n",
       "    </tr>\n",
       "    <tr>\n",
       "      <th>10</th>\n",
       "      <td>PDU</td>\n",
       "      <td>749133</td>\n",
       "    </tr>\n",
       "    <tr>\n",
       "      <th>11</th>\n",
       "      <td>POWERMETER</td>\n",
       "      <td>114061</td>\n",
       "    </tr>\n",
       "    <tr>\n",
       "      <th>12</th>\n",
       "      <td>GENERIC_SNMP</td>\n",
       "      <td>59074</td>\n",
       "    </tr>\n",
       "    <tr>\n",
       "      <th>13</th>\n",
       "      <td>BREAKER_MODULE</td>\n",
       "      <td>44387</td>\n",
       "    </tr>\n",
       "    <tr>\n",
       "      <th>14</th>\n",
       "      <td>ACCESSPOD</td>\n",
       "      <td>41018</td>\n",
       "    </tr>\n",
       "    <tr>\n",
       "      <th>15</th>\n",
       "      <td>BATTERYMANAGER</td>\n",
       "      <td>31972</td>\n",
       "    </tr>\n",
       "    <tr>\n",
       "      <th>16</th>\n",
       "      <td>GENERATOR</td>\n",
       "      <td>26179</td>\n",
       "    </tr>\n",
       "    <tr>\n",
       "      <th>17</th>\n",
       "      <td>NETWORK_DEVICE</td>\n",
       "      <td>12752</td>\n",
       "    </tr>\n",
       "    <tr>\n",
       "      <th>18</th>\n",
       "      <td>CCTV_POD</td>\n",
       "      <td>11382</td>\n",
       "    </tr>\n",
       "    <tr>\n",
       "      <th>19</th>\n",
       "      <td>SERVER</td>\n",
       "      <td>11086</td>\n",
       "    </tr>\n",
       "    <tr>\n",
       "      <th>20</th>\n",
       "      <td>ACCESSDEVICE</td>\n",
       "      <td>8552</td>\n",
       "    </tr>\n",
       "    <tr>\n",
       "      <th>21</th>\n",
       "      <td>NMC</td>\n",
       "      <td>6332</td>\n",
       "    </tr>\n",
       "    <tr>\n",
       "      <th>22</th>\n",
       "      <td>DCO</td>\n",
       "      <td>5040</td>\n",
       "    </tr>\n",
       "    <tr>\n",
       "      <th>23</th>\n",
       "      <td>ACCESS_DEVICE</td>\n",
       "      <td>2867</td>\n",
       "    </tr>\n",
       "    <tr>\n",
       "      <th>24</th>\n",
       "      <td>SHARED_DEVICE</td>\n",
       "      <td>1839</td>\n",
       "    </tr>\n",
       "    <tr>\n",
       "      <th>25</th>\n",
       "      <td>BCM</td>\n",
       "      <td>1305</td>\n",
       "    </tr>\n",
       "    <tr>\n",
       "      <th>26</th>\n",
       "      <td>KVM</td>\n",
       "      <td>1113</td>\n",
       "    </tr>\n",
       "    <tr>\n",
       "      <th>27</th>\n",
       "      <td>UNKNOWN</td>\n",
       "      <td>788</td>\n",
       "    </tr>\n",
       "    <tr>\n",
       "      <th>28</th>\n",
       "      <td>RECTIFIER</td>\n",
       "      <td>499</td>\n",
       "    </tr>\n",
       "    <tr>\n",
       "      <th>29</th>\n",
       "      <td>POWER_MODULE</td>\n",
       "      <td>343</td>\n",
       "    </tr>\n",
       "    <tr>\n",
       "      <th>30</th>\n",
       "      <td>STS</td>\n",
       "      <td>141</td>\n",
       "    </tr>\n",
       "    <tr>\n",
       "      <th>31</th>\n",
       "      <td>DCE</td>\n",
       "      <td>114</td>\n",
       "    </tr>\n",
       "    <tr>\n",
       "      <th>32</th>\n",
       "      <td>CONSOLE_PORT_SERVER</td>\n",
       "      <td>83</td>\n",
       "    </tr>\n",
       "    <tr>\n",
       "      <th>33</th>\n",
       "      <td>GATEWAY</td>\n",
       "      <td>25</td>\n",
       "    </tr>\n",
       "  </tbody>\n",
       "</table>\n",
       "</div>"
      ],
      "text/plain": [
       "                Asset Type  Frequency\n",
       "0                      UPS   11805752\n",
       "1                     RPDU    8765783\n",
       "2                      POD    4614883\n",
       "3                   CAMERA    2523722\n",
       "4                      EMS    1830929\n",
       "5                     CRAC     867678\n",
       "6   NETBOTZ_WALL_APPLIANCE     848547\n",
       "7   NETBOTZ_RACK_APPLIANCE     843905\n",
       "8             RACK_MANAGER     795420\n",
       "9                      ATS     787119\n",
       "10                     PDU     749133\n",
       "11              POWERMETER     114061\n",
       "12            GENERIC_SNMP      59074\n",
       "13          BREAKER_MODULE      44387\n",
       "14               ACCESSPOD      41018\n",
       "15          BATTERYMANAGER      31972\n",
       "16               GENERATOR      26179\n",
       "17          NETWORK_DEVICE      12752\n",
       "18                CCTV_POD      11382\n",
       "19                  SERVER      11086\n",
       "20            ACCESSDEVICE       8552\n",
       "21                     NMC       6332\n",
       "22                     DCO       5040\n",
       "23           ACCESS_DEVICE       2867\n",
       "24           SHARED_DEVICE       1839\n",
       "25                     BCM       1305\n",
       "26                     KVM       1113\n",
       "27                 UNKNOWN        788\n",
       "28               RECTIFIER        499\n",
       "29            POWER_MODULE        343\n",
       "30                     STS        141\n",
       "31                     DCE        114\n",
       "32     CONSOLE_PORT_SERVER         83\n",
       "33                 GATEWAY         25"
      ]
     },
     "execution_count": 31,
     "metadata": {},
     "output_type": "execute_result"
    }
   ],
   "source": [
    "asset_type_count = df[\"AssetType\"].value_counts()\n",
    "asset_type_frequency_table = pd.DataFrame(asset_type_count).reset_index()\n",
    "asset_type_frequency_table.columns = ['Asset Type', 'Frequency']\n",
    "asset_type_frequency_table"
   ]
  },
  {
   "cell_type": "code",
   "execution_count": 35,
   "id": "f6270055",
   "metadata": {},
   "outputs": [],
   "source": [
    "df_nlp = df.copy()"
   ]
  },
  {
   "cell_type": "code",
   "execution_count": 34,
   "id": "1a88f04e",
   "metadata": {},
   "outputs": [],
   "source": [
    "df_nlp.to_csv('EDA_Dataset.csv', index=False)"
   ]
  },
  {
   "cell_type": "markdown",
   "id": "df41a818",
   "metadata": {},
   "source": []
  }
 ],
 "metadata": {
  "kernelspec": {
   "display_name": "Python 3",
   "language": "python",
   "name": "python3"
  },
  "language_info": {
   "codemirror_mode": {
    "name": "ipython",
    "version": 3
   },
   "file_extension": ".py",
   "mimetype": "text/x-python",
   "name": "python",
   "nbconvert_exporter": "python",
   "pygments_lexer": "ipython3",
   "version": "3.9.12"
  }
 },
 "nbformat": 4,
 "nbformat_minor": 5
}
