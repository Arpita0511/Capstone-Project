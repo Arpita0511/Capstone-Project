{
 "cells": [
  {
   "cell_type": "code",
   "execution_count": 1,
   "id": "cde794cf-1709-4b03-864e-21a74519662a",
   "metadata": {},
   "outputs": [],
   "source": [
    "import pandas as pd\n",
    "from sklearn.model_selection import train_test_split\n",
    "from xgboost import XGBClassifier\n",
    "from sklearn.metrics import accuracy_score, classification_report, confusion_matrix\n",
    "import seaborn as sns\n",
    "import matplotlib.pyplot as plt\n",
    "from xgboost import XGBClassifier"
   ]
  },
  {
   "cell_type": "code",
   "execution_count": 2,
   "id": "bfbcdfe3-198f-42be-bf35-5b23926a4d52",
   "metadata": {},
   "outputs": [],
   "source": [
    "# Load the dataset\n",
    "df = pd.read_csv(\"NLP_Dataset1.csv\")"
   ]
  },
  {
   "cell_type": "code",
   "execution_count": 3,
   "id": "9114b98d-673e-4dcf-b140-95eeb083550c",
   "metadata": {},
   "outputs": [
    {
     "data": {
      "text/html": [
       "<div>\n",
       "<style scoped>\n",
       "    .dataframe tbody tr th:only-of-type {\n",
       "        vertical-align: middle;\n",
       "    }\n",
       "\n",
       "    .dataframe tbody tr th {\n",
       "        vertical-align: top;\n",
       "    }\n",
       "\n",
       "    .dataframe thead th {\n",
       "        text-align: right;\n",
       "    }\n",
       "</style>\n",
       "<table border=\"1\" class=\"dataframe\">\n",
       "  <thead>\n",
       "    <tr style=\"text-align: right;\">\n",
       "      <th></th>\n",
       "      <th>AssetId</th>\n",
       "      <th>organizationid</th>\n",
       "      <th>organizationcountrycode</th>\n",
       "      <th>locationid</th>\n",
       "      <th>AssetType</th>\n",
       "      <th>AlarmLabel</th>\n",
       "      <th>AlarmMessage</th>\n",
       "      <th>Severity</th>\n",
       "      <th>ActivatedTimestamp</th>\n",
       "      <th>ClearedTimestamp</th>\n",
       "      <th>month</th>\n",
       "      <th>week</th>\n",
       "      <th>ResolutionTimeMinutes</th>\n",
       "      <th>Lemmas_No_Stop_Words</th>\n",
       "      <th>Tokens</th>\n",
       "    </tr>\n",
       "  </thead>\n",
       "  <tbody>\n",
       "    <tr>\n",
       "      <th>0</th>\n",
       "      <td>001e6d91-324b-4b99-84f8-9435148de9ce</td>\n",
       "      <td>5effecae-fdee-494a-bf38-d4cb5d7cc405</td>\n",
       "      <td>US</td>\n",
       "      <td>Default Location</td>\n",
       "      <td>UPS</td>\n",
       "      <td>Battery Near End Of Life Cleared</td>\n",
       "      <td>The battery is no longer near the end of life.</td>\n",
       "      <td>WARNING</td>\n",
       "      <td>2021-01-17T23:32:55Z</td>\n",
       "      <td>2021-03-16T14:37:52Z</td>\n",
       "      <td>1.0</td>\n",
       "      <td>3</td>\n",
       "      <td>82984.950000</td>\n",
       "      <td>['battery', 'near', 'end', 'life', 'clear']</td>\n",
       "      <td>['battery', 'near', 'end', 'of', 'life', 'clea...</td>\n",
       "    </tr>\n",
       "    <tr>\n",
       "      <th>1</th>\n",
       "      <td>001e6d91-324b-4b99-84f8-9435148de9ce</td>\n",
       "      <td>5effecae-fdee-494a-bf38-d4cb5d7cc405</td>\n",
       "      <td>US</td>\n",
       "      <td>Default Location</td>\n",
       "      <td>UPS</td>\n",
       "      <td>Power Failure Cleared</td>\n",
       "      <td>No longer on battery power.</td>\n",
       "      <td>WARNING</td>\n",
       "      <td>2021-01-08T20:55:56Z</td>\n",
       "      <td>2021-01-08T20:56:19Z</td>\n",
       "      <td>1.0</td>\n",
       "      <td>2</td>\n",
       "      <td>0.383333</td>\n",
       "      <td>['power', 'failure', 'clear']</td>\n",
       "      <td>['power', 'failure', 'cleared']</td>\n",
       "    </tr>\n",
       "    <tr>\n",
       "      <th>2</th>\n",
       "      <td>004209ba-f692-41b8-af30-5b51996f1abb</td>\n",
       "      <td>a3768a07-4e2d-4075-ab6b-66e3541fc6c4</td>\n",
       "      <td>US</td>\n",
       "      <td>275102b5-af38-456c-982b-7a6d33850e13</td>\n",
       "      <td>UPS</td>\n",
       "      <td>Device Communication Alert</td>\n",
       "      <td>Communication with the UPS \\\"redact\\\" has been...</td>\n",
       "      <td>CRITICAL</td>\n",
       "      <td>2021-01-08T20:28:05Z</td>\n",
       "      <td>2021-01-08T20:36:14Z</td>\n",
       "      <td>1.0</td>\n",
       "      <td>2</td>\n",
       "      <td>8.150000</td>\n",
       "      <td>['device', 'communication', 'alert']</td>\n",
       "      <td>['device', 'communication', 'alert']</td>\n",
       "    </tr>\n",
       "    <tr>\n",
       "      <th>3</th>\n",
       "      <td>004209ba-f692-41b8-af30-5b51996f1abb</td>\n",
       "      <td>a3768a07-4e2d-4075-ab6b-66e3541fc6c4</td>\n",
       "      <td>US</td>\n",
       "      <td>275102b5-af38-456c-982b-7a6d33850e13</td>\n",
       "      <td>UPS</td>\n",
       "      <td>Device Communication Alert</td>\n",
       "      <td>Communication with the UPS \\\"redact\\\" has been...</td>\n",
       "      <td>CRITICAL</td>\n",
       "      <td>2021-01-29T11:51:23Z</td>\n",
       "      <td>2021-01-29T11:56:16Z</td>\n",
       "      <td>1.0</td>\n",
       "      <td>5</td>\n",
       "      <td>4.883333</td>\n",
       "      <td>['device', 'communication', 'alert']</td>\n",
       "      <td>['device', 'communication', 'alert']</td>\n",
       "    </tr>\n",
       "    <tr>\n",
       "      <th>4</th>\n",
       "      <td>004209ba-f692-41b8-af30-5b51996f1abb</td>\n",
       "      <td>a3768a07-4e2d-4075-ab6b-66e3541fc6c4</td>\n",
       "      <td>US</td>\n",
       "      <td>275102b5-af38-456c-982b-7a6d33850e13</td>\n",
       "      <td>UPS</td>\n",
       "      <td>Device Communication Alert</td>\n",
       "      <td>Communication with the UPS \\\"redact\\\" has been...</td>\n",
       "      <td>CRITICAL</td>\n",
       "      <td>2021-01-29T09:41:23Z</td>\n",
       "      <td>2021-01-29T09:46:22Z</td>\n",
       "      <td>1.0</td>\n",
       "      <td>5</td>\n",
       "      <td>4.983333</td>\n",
       "      <td>['device', 'communication', 'alert']</td>\n",
       "      <td>['device', 'communication', 'alert']</td>\n",
       "    </tr>\n",
       "  </tbody>\n",
       "</table>\n",
       "</div>"
      ],
      "text/plain": [
       "                                AssetId                        organizationid  \\\n",
       "0  001e6d91-324b-4b99-84f8-9435148de9ce  5effecae-fdee-494a-bf38-d4cb5d7cc405   \n",
       "1  001e6d91-324b-4b99-84f8-9435148de9ce  5effecae-fdee-494a-bf38-d4cb5d7cc405   \n",
       "2  004209ba-f692-41b8-af30-5b51996f1abb  a3768a07-4e2d-4075-ab6b-66e3541fc6c4   \n",
       "3  004209ba-f692-41b8-af30-5b51996f1abb  a3768a07-4e2d-4075-ab6b-66e3541fc6c4   \n",
       "4  004209ba-f692-41b8-af30-5b51996f1abb  a3768a07-4e2d-4075-ab6b-66e3541fc6c4   \n",
       "\n",
       "  organizationcountrycode                            locationid AssetType  \\\n",
       "0                      US                      Default Location       UPS   \n",
       "1                      US                      Default Location       UPS   \n",
       "2                      US  275102b5-af38-456c-982b-7a6d33850e13       UPS   \n",
       "3                      US  275102b5-af38-456c-982b-7a6d33850e13       UPS   \n",
       "4                      US  275102b5-af38-456c-982b-7a6d33850e13       UPS   \n",
       "\n",
       "                         AlarmLabel  \\\n",
       "0  Battery Near End Of Life Cleared   \n",
       "1             Power Failure Cleared   \n",
       "2        Device Communication Alert   \n",
       "3        Device Communication Alert   \n",
       "4        Device Communication Alert   \n",
       "\n",
       "                                        AlarmMessage  Severity  \\\n",
       "0     The battery is no longer near the end of life.   WARNING   \n",
       "1                        No longer on battery power.   WARNING   \n",
       "2  Communication with the UPS \\\"redact\\\" has been...  CRITICAL   \n",
       "3  Communication with the UPS \\\"redact\\\" has been...  CRITICAL   \n",
       "4  Communication with the UPS \\\"redact\\\" has been...  CRITICAL   \n",
       "\n",
       "     ActivatedTimestamp      ClearedTimestamp  month  week  \\\n",
       "0  2021-01-17T23:32:55Z  2021-03-16T14:37:52Z    1.0     3   \n",
       "1  2021-01-08T20:55:56Z  2021-01-08T20:56:19Z    1.0     2   \n",
       "2  2021-01-08T20:28:05Z  2021-01-08T20:36:14Z    1.0     2   \n",
       "3  2021-01-29T11:51:23Z  2021-01-29T11:56:16Z    1.0     5   \n",
       "4  2021-01-29T09:41:23Z  2021-01-29T09:46:22Z    1.0     5   \n",
       "\n",
       "   ResolutionTimeMinutes                         Lemmas_No_Stop_Words  \\\n",
       "0           82984.950000  ['battery', 'near', 'end', 'life', 'clear']   \n",
       "1               0.383333                ['power', 'failure', 'clear']   \n",
       "2               8.150000         ['device', 'communication', 'alert']   \n",
       "3               4.883333         ['device', 'communication', 'alert']   \n",
       "4               4.983333         ['device', 'communication', 'alert']   \n",
       "\n",
       "                                              Tokens  \n",
       "0  ['battery', 'near', 'end', 'of', 'life', 'clea...  \n",
       "1                    ['power', 'failure', 'cleared']  \n",
       "2               ['device', 'communication', 'alert']  \n",
       "3               ['device', 'communication', 'alert']  \n",
       "4               ['device', 'communication', 'alert']  "
      ]
     },
     "execution_count": 3,
     "metadata": {},
     "output_type": "execute_result"
    }
   ],
   "source": [
    "df.head()"
   ]
  },
  {
   "cell_type": "code",
   "execution_count": 4,
   "id": "756e3365-a5a9-4c7c-8f91-cdcdf0f9f1c2",
   "metadata": {},
   "outputs": [
    {
     "name": "stdout",
     "output_type": "stream",
     "text": [
      "<class 'pandas.core.frame.DataFrame'>\n",
      "RangeIndex: 34813823 entries, 0 to 34813822\n",
      "Data columns (total 15 columns):\n",
      " #   Column                   Dtype  \n",
      "---  ------                   -----  \n",
      " 0   AssetId                  object \n",
      " 1   organizationid           object \n",
      " 2   organizationcountrycode  object \n",
      " 3   locationid               object \n",
      " 4   AssetType                object \n",
      " 5   AlarmLabel               object \n",
      " 6   AlarmMessage             object \n",
      " 7   Severity                 object \n",
      " 8   ActivatedTimestamp       object \n",
      " 9   ClearedTimestamp         object \n",
      " 10  month                    float64\n",
      " 11  week                     int64  \n",
      " 12  ResolutionTimeMinutes    float64\n",
      " 13  Lemmas_No_Stop_Words     object \n",
      " 14  Tokens                   object \n",
      "dtypes: float64(2), int64(1), object(12)\n",
      "memory usage: 3.9+ GB\n",
      "None\n"
     ]
    }
   ],
   "source": [
    "# Display data information\n",
    "print(df.info())"
   ]
  },
  {
   "cell_type": "code",
   "execution_count": 5,
   "id": "f1c44e7b-fef7-4f52-aa8c-dc132f2a1041",
   "metadata": {},
   "outputs": [
    {
     "name": "stdout",
     "output_type": "stream",
     "text": [
      "                                AssetId                        organizationid  \\\n",
      "0  001e6d91-324b-4b99-84f8-9435148de9ce  5effecae-fdee-494a-bf38-d4cb5d7cc405   \n",
      "1  001e6d91-324b-4b99-84f8-9435148de9ce  5effecae-fdee-494a-bf38-d4cb5d7cc405   \n",
      "2  004209ba-f692-41b8-af30-5b51996f1abb  a3768a07-4e2d-4075-ab6b-66e3541fc6c4   \n",
      "3  004209ba-f692-41b8-af30-5b51996f1abb  a3768a07-4e2d-4075-ab6b-66e3541fc6c4   \n",
      "4  004209ba-f692-41b8-af30-5b51996f1abb  a3768a07-4e2d-4075-ab6b-66e3541fc6c4   \n",
      "\n",
      "  organizationcountrycode                            locationid AssetType  \\\n",
      "0                      US                      Default Location       UPS   \n",
      "1                      US                      Default Location       UPS   \n",
      "2                      US  275102b5-af38-456c-982b-7a6d33850e13       UPS   \n",
      "3                      US  275102b5-af38-456c-982b-7a6d33850e13       UPS   \n",
      "4                      US  275102b5-af38-456c-982b-7a6d33850e13       UPS   \n",
      "\n",
      "                         AlarmLabel  \\\n",
      "0  Battery Near End Of Life Cleared   \n",
      "1             Power Failure Cleared   \n",
      "2        Device Communication Alert   \n",
      "3        Device Communication Alert   \n",
      "4        Device Communication Alert   \n",
      "\n",
      "                                        AlarmMessage  Severity  \\\n",
      "0     The battery is no longer near the end of life.   WARNING   \n",
      "1                        No longer on battery power.   WARNING   \n",
      "2  Communication with the UPS \\\"redact\\\" has been...  CRITICAL   \n",
      "3  Communication with the UPS \\\"redact\\\" has been...  CRITICAL   \n",
      "4  Communication with the UPS \\\"redact\\\" has been...  CRITICAL   \n",
      "\n",
      "     ActivatedTimestamp      ClearedTimestamp  month  week  \\\n",
      "0  2021-01-17T23:32:55Z  2021-03-16T14:37:52Z    1.0     3   \n",
      "1  2021-01-08T20:55:56Z  2021-01-08T20:56:19Z    1.0     2   \n",
      "2  2021-01-08T20:28:05Z  2021-01-08T20:36:14Z    1.0     2   \n",
      "3  2021-01-29T11:51:23Z  2021-01-29T11:56:16Z    1.0     5   \n",
      "4  2021-01-29T09:41:23Z  2021-01-29T09:46:22Z    1.0     5   \n",
      "\n",
      "   ResolutionTimeMinutes                         Lemmas_No_Stop_Words  \\\n",
      "0           82984.950000  ['battery', 'near', 'end', 'life', 'clear']   \n",
      "1               0.383333                ['power', 'failure', 'clear']   \n",
      "2               8.150000         ['device', 'communication', 'alert']   \n",
      "3               4.883333         ['device', 'communication', 'alert']   \n",
      "4               4.983333         ['device', 'communication', 'alert']   \n",
      "\n",
      "                                              Tokens  \n",
      "0  ['battery', 'near', 'end', 'of', 'life', 'clea...  \n",
      "1                    ['power', 'failure', 'cleared']  \n",
      "2               ['device', 'communication', 'alert']  \n",
      "3               ['device', 'communication', 'alert']  \n",
      "4               ['device', 'communication', 'alert']  \n"
     ]
    }
   ],
   "source": [
    "# Display the processed data\n",
    "print(df.head())"
   ]
  },
  {
   "cell_type": "code",
   "execution_count": 6,
   "id": "baf77181-47d2-41f4-9165-a4ccab4a1dfe",
   "metadata": {},
   "outputs": [
    {
     "name": "stdout",
     "output_type": "stream",
     "text": [
      "Defaulting to user installation because normal site-packages is not writeable\n",
      "Requirement already satisfied: xgboost in ./.local/lib/python3.9/site-packages (2.0.3)\n",
      "Requirement already satisfied: scipy in /shared/centos7/anaconda3/2022.05/lib/python3.9/site-packages (from xgboost) (1.7.3)\n",
      "Requirement already satisfied: numpy in /shared/centos7/anaconda3/2022.05/lib/python3.9/site-packages (from xgboost) (1.21.5)\n"
     ]
    }
   ],
   "source": [
    "!pip install xgboost"
   ]
  },
  {
   "cell_type": "code",
   "execution_count": 7,
   "id": "34914ad3-fdcf-4a98-ae83-af97c9e4fb67",
   "metadata": {},
   "outputs": [],
   "source": [
    "# Preprocessing\n",
    "X = df[['AssetType', 'AlarmLabel']].copy()  # Create a copy to avoid warnings\n",
    "y = df['Severity']  # Target variable"
   ]
  },
  {
   "cell_type": "code",
   "execution_count": 8,
   "id": "60645092-8ac9-4dee-ac48-d78fa4b95af8",
   "metadata": {},
   "outputs": [],
   "source": [
    "# Convert target variable to numeric\n",
    "severity_mapping = {'INFO': 0, 'WARNING': 1, 'ERROR': 2, 'FAIL': 3, 'CRITICAL': 4}\n",
    "y = y.map(severity_mapping)"
   ]
  },
  {
   "cell_type": "code",
   "execution_count": 9,
   "id": "066f9966-4d97-4e29-a45a-b68cff94b6f5",
   "metadata": {},
   "outputs": [],
   "source": [
    "# Target encoding for categorical variables\n",
    "def target_encode(df, feature, target):\n",
    "    mean_encoded = df.groupby(feature)[target].mean()\n",
    "    return df[feature].map(mean_encoded)\n",
    "\n",
    "X['AssetType_encoded'] = target_encode(pd.concat([X, y], axis=1), 'AssetType', y.name)\n",
    "X['AlarmLabel_encoded'] = target_encode(pd.concat([X, y], axis=1), 'AlarmLabel', y.name)\n",
    "X.drop(['AssetType', 'AlarmLabel'], axis=1, inplace=True)"
   ]
  },
  {
   "cell_type": "code",
   "execution_count": 10,
   "id": "a7ec61e8-89b1-416b-8a95-a967bc33502f",
   "metadata": {},
   "outputs": [],
   "source": [
    "# Split the data\n",
    "X_train, X_test, y_train, y_test = train_test_split(X, y, test_size=0.2, random_state=42)"
   ]
  },
  {
   "cell_type": "code",
   "execution_count": 11,
   "id": "826345fb-27ce-4e58-be14-93c8ec898da1",
   "metadata": {},
   "outputs": [
    {
     "data": {
      "text/plain": [
       "XGBClassifier(base_score=None, booster=None, callbacks=None,\n",
       "              colsample_bylevel=None, colsample_bynode=None,\n",
       "              colsample_bytree=None, device=None, early_stopping_rounds=None,\n",
       "              enable_categorical=False, eval_metric='mlogloss',\n",
       "              feature_types=None, gamma=None, grow_policy=None,\n",
       "              importance_type=None, interaction_constraints=None,\n",
       "              learning_rate=None, max_bin=None, max_cat_threshold=None,\n",
       "              max_cat_to_onehot=None, max_delta_step=None, max_depth=None,\n",
       "              max_leaves=None, min_child_weight=None, missing=nan,\n",
       "              monotone_constraints=None, multi_strategy=None, n_estimators=None,\n",
       "              n_jobs=None, num_parallel_tree=None, objective='multi:softprob', ...)"
      ]
     },
     "execution_count": 11,
     "metadata": {},
     "output_type": "execute_result"
    }
   ],
   "source": [
    "# Train the model\n",
    "model = XGBClassifier(use_label_encoder=False, eval_metric='mlogloss')\n",
    "model.fit(X_train, y_train)"
   ]
  },
  {
   "cell_type": "code",
   "execution_count": 12,
   "id": "96f8cdcc-d1ef-4d56-bb42-c2bc5ca3c11e",
   "metadata": {},
   "outputs": [],
   "source": [
    "# Predict on the test data\n",
    "y_pred = model.predict(X_test)"
   ]
  },
  {
   "cell_type": "code",
   "execution_count": 13,
   "id": "437531ec-fbc5-4040-87d4-f6e1bd85d18b",
   "metadata": {},
   "outputs": [
    {
     "name": "stdout",
     "output_type": "stream",
     "text": [
      "Accuracy: 0.881792219039419\n",
      "Classification Report:\n",
      "               precision    recall  f1-score   support\n",
      "\n",
      "           0       0.70      0.84      0.77    676070\n",
      "           1       0.99      0.87      0.93   2228326\n",
      "           2       0.62      0.86      0.72    689446\n",
      "           3       0.75      0.84      0.79    362795\n",
      "           4       0.96      0.91      0.94   3006128\n",
      "\n",
      "    accuracy                           0.88   6962765\n",
      "   macro avg       0.81      0.86      0.83   6962765\n",
      "weighted avg       0.90      0.88      0.89   6962765\n",
      "\n"
     ]
    }
   ],
   "source": [
    "# Evaluate the model\n",
    "accuracy = accuracy_score(y_test, y_pred)\n",
    "report = classification_report(y_test, y_pred)\n",
    "cm = confusion_matrix(y_test, y_pred)\n",
    "\n",
    "print(\"Accuracy:\", accuracy)\n",
    "print(\"Classification Report:\\n\", report)"
   ]
  },
  {
   "cell_type": "code",
   "execution_count": 14,
   "id": "be585ebe-6350-4010-b054-0ac5a7f0d4e4",
   "metadata": {},
   "outputs": [
    {
     "data": {
      "image/png": "[encoded data removed]",
      "text/plain": [
       "<Figure size 720x504 with 2 Axes>"
      ]
     },
     "metadata": {
      "needs_background": "light"
     },
     "output_type": "display_data"
    }
   ],
   "source": [
    "# Plot confusion matrix\n",
    "plt.figure(figsize=(10,7))\n",
    "sns.heatmap(cm, annot=True, fmt='d', cmap='Blues', xticklabels=severity_mapping.keys(), yticklabels=severity_mapping.keys())\n",
    "plt.xlabel('Predicted')\n",
    "plt.ylabel('Actual')\n",
    "plt.title('Confusion Matrix')\n",
    "plt.show()"
   ]
  },
  {
   "cell_type": "code",
   "execution_count": 15,
   "id": "8ae7a6b6-1e6a-4827-9eeb-1cccebccc794",
   "metadata": {},
   "outputs": [
    {
     "data": {
      "image/png": "[encoded data removed]",
      "text/plain": [
       "<Figure size 720x504 with 1 Axes>"
      ]
     },
     "metadata": {
      "needs_background": "light"
     },
     "output_type": "display_data"
    }
   ],
   "source": [
    "# Plot feature importance\n",
    "plt.figure(figsize=(10,7))\n",
    "feature_importances = model.feature_importances_\n",
    "sorted_idx = feature_importances.argsort()\n",
    "plt.barh(X.columns[sorted_idx], feature_importances[sorted_idx])\n",
    "plt.xlabel(\"XGBoost Feature Importance\")\n",
    "plt.title(\"Feature Importance\")\n",
    "plt.show()"
   ]
  }
 ],
 "metadata": {
  "kernelspec": {
   "display_name": "Python 3",
   "language": "python",
   "name": "python3"
  },
  "language_info": {
   "codemirror_mode": {
    "name": "ipython",
    "version": 3
   },
   "file_extension": ".py",
   "mimetype": "text/x-python",
   "name": "python",
   "nbconvert_exporter": "python",
   "pygments_lexer": "ipython3",
   "version": "3.9.12"
  }
 },
 "nbformat": 4,
 "nbformat_minor": 5
}
