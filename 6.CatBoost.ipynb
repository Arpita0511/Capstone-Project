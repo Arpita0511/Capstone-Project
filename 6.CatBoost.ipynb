{
 "cells": [
  {
   "cell_type": "code",
   "execution_count": 1,
   "id": "adc08048-0a9b-4f78-9c26-c285a0cc7534",
   "metadata": {},
   "outputs": [],
   "source": [
    "import pandas as pd\n",
    "from sklearn.model_selection import train_test_split\n",
    "from catboost import CatBoostClassifier\n",
    "from sklearn.metrics import accuracy_score, classification_report, confusion_matrix\n",
    "import seaborn as sns\n",
    "import matplotlib.pyplot as plt"
   ]
  },
  {
   "cell_type": "code",
   "execution_count": 2,
   "id": "07eef173-edb9-47be-8f7e-9783cb8f2e2e",
   "metadata": {},
   "outputs": [],
   "source": [
    "# Load the dataset\n",
    "df = pd.read_csv(\"NLP_Dataset1.csv\")"
   ]
  },
  {
   "cell_type": "code",
   "execution_count": 3,
   "id": "0d65caf4-c722-467f-a7fd-388f42998660",
   "metadata": {},
   "outputs": [
    {
     "data": {
      "text/html": [
       "<div>\n",
       "<style scoped>\n",
       "    .dataframe tbody tr th:only-of-type {\n",
       "        vertical-align: middle;\n",
       "    }\n",
       "\n",
       "    .dataframe tbody tr th {\n",
       "        vertical-align: top;\n",
       "    }\n",
       "\n",
       "    .dataframe thead th {\n",
       "        text-align: right;\n",
       "    }\n",
       "</style>\n",
       "<table border=\"1\" class=\"dataframe\">\n",
       "  <thead>\n",
       "    <tr style=\"text-align: right;\">\n",
       "      <th></th>\n",
       "      <th>AssetId</th>\n",
       "      <th>organizationid</th>\n",
       "      <th>organizationcountrycode</th>\n",
       "      <th>locationid</th>\n",
       "      <th>AssetType</th>\n",
       "      <th>AlarmLabel</th>\n",
       "      <th>AlarmMessage</th>\n",
       "      <th>Severity</th>\n",
       "      <th>ActivatedTimestamp</th>\n",
       "      <th>ClearedTimestamp</th>\n",
       "      <th>month</th>\n",
       "      <th>week</th>\n",
       "      <th>ResolutionTimeMinutes</th>\n",
       "      <th>Lemmas_No_Stop_Words</th>\n",
       "      <th>Tokens</th>\n",
       "    </tr>\n",
       "  </thead>\n",
       "  <tbody>\n",
       "    <tr>\n",
       "      <th>0</th>\n",
       "      <td>001e6d91-324b-4b99-84f8-9435148de9ce</td>\n",
       "      <td>5effecae-fdee-494a-bf38-d4cb5d7cc405</td>\n",
       "      <td>US</td>\n",
       "      <td>Default Location</td>\n",
       "      <td>UPS</td>\n",
       "      <td>Battery Near End Of Life Cleared</td>\n",
       "      <td>The battery is no longer near the end of life.</td>\n",
       "      <td>WARNING</td>\n",
       "      <td>2021-01-17T23:32:55Z</td>\n",
       "      <td>2021-03-16T14:37:52Z</td>\n",
       "      <td>1.0</td>\n",
       "      <td>3</td>\n",
       "      <td>82984.950000</td>\n",
       "      <td>['battery', 'near', 'end', 'life', 'clear']</td>\n",
       "      <td>['battery', 'near', 'end', 'of', 'life', 'clea...</td>\n",
       "    </tr>\n",
       "    <tr>\n",
       "      <th>1</th>\n",
       "      <td>001e6d91-324b-4b99-84f8-9435148de9ce</td>\n",
       "      <td>5effecae-fdee-494a-bf38-d4cb5d7cc405</td>\n",
       "      <td>US</td>\n",
       "      <td>Default Location</td>\n",
       "      <td>UPS</td>\n",
       "      <td>Power Failure Cleared</td>\n",
       "      <td>No longer on battery power.</td>\n",
       "      <td>WARNING</td>\n",
       "      <td>2021-01-08T20:55:56Z</td>\n",
       "      <td>2021-01-08T20:56:19Z</td>\n",
       "      <td>1.0</td>\n",
       "      <td>2</td>\n",
       "      <td>0.383333</td>\n",
       "      <td>['power', 'failure', 'clear']</td>\n",
       "      <td>['power', 'failure', 'cleared']</td>\n",
       "    </tr>\n",
       "    <tr>\n",
       "      <th>2</th>\n",
       "      <td>004209ba-f692-41b8-af30-5b51996f1abb</td>\n",
       "      <td>a3768a07-4e2d-4075-ab6b-66e3541fc6c4</td>\n",
       "      <td>US</td>\n",
       "      <td>275102b5-af38-456c-982b-7a6d33850e13</td>\n",
       "      <td>UPS</td>\n",
       "      <td>Device Communication Alert</td>\n",
       "      <td>Communication with the UPS \\\"redact\\\" has been...</td>\n",
       "      <td>CRITICAL</td>\n",
       "      <td>2021-01-08T20:28:05Z</td>\n",
       "      <td>2021-01-08T20:36:14Z</td>\n",
       "      <td>1.0</td>\n",
       "      <td>2</td>\n",
       "      <td>8.150000</td>\n",
       "      <td>['device', 'communication', 'alert']</td>\n",
       "      <td>['device', 'communication', 'alert']</td>\n",
       "    </tr>\n",
       "    <tr>\n",
       "      <th>3</th>\n",
       "      <td>004209ba-f692-41b8-af30-5b51996f1abb</td>\n",
       "      <td>a3768a07-4e2d-4075-ab6b-66e3541fc6c4</td>\n",
       "      <td>US</td>\n",
       "      <td>275102b5-af38-456c-982b-7a6d33850e13</td>\n",
       "      <td>UPS</td>\n",
       "      <td>Device Communication Alert</td>\n",
       "      <td>Communication with the UPS \\\"redact\\\" has been...</td>\n",
       "      <td>CRITICAL</td>\n",
       "      <td>2021-01-29T11:51:23Z</td>\n",
       "      <td>2021-01-29T11:56:16Z</td>\n",
       "      <td>1.0</td>\n",
       "      <td>5</td>\n",
       "      <td>4.883333</td>\n",
       "      <td>['device', 'communication', 'alert']</td>\n",
       "      <td>['device', 'communication', 'alert']</td>\n",
       "    </tr>\n",
       "    <tr>\n",
       "      <th>4</th>\n",
       "      <td>004209ba-f692-41b8-af30-5b51996f1abb</td>\n",
       "      <td>a3768a07-4e2d-4075-ab6b-66e3541fc6c4</td>\n",
       "      <td>US</td>\n",
       "      <td>275102b5-af38-456c-982b-7a6d33850e13</td>\n",
       "      <td>UPS</td>\n",
       "      <td>Device Communication Alert</td>\n",
       "      <td>Communication with the UPS \\\"redact\\\" has been...</td>\n",
       "      <td>CRITICAL</td>\n",
       "      <td>2021-01-29T09:41:23Z</td>\n",
       "      <td>2021-01-29T09:46:22Z</td>\n",
       "      <td>1.0</td>\n",
       "      <td>5</td>\n",
       "      <td>4.983333</td>\n",
       "      <td>['device', 'communication', 'alert']</td>\n",
       "      <td>['device', 'communication', 'alert']</td>\n",
       "    </tr>\n",
       "  </tbody>\n",
       "</table>\n",
       "</div>"
      ],
      "text/plain": [
       "                                AssetId                        organizationid  \\\n",
       "0  001e6d91-324b-4b99-84f8-9435148de9ce  5effecae-fdee-494a-bf38-d4cb5d7cc405   \n",
       "1  001e6d91-324b-4b99-84f8-9435148de9ce  5effecae-fdee-494a-bf38-d4cb5d7cc405   \n",
       "2  004209ba-f692-41b8-af30-5b51996f1abb  a3768a07-4e2d-4075-ab6b-66e3541fc6c4   \n",
       "3  004209ba-f692-41b8-af30-5b51996f1abb  a3768a07-4e2d-4075-ab6b-66e3541fc6c4   \n",
       "4  004209ba-f692-41b8-af30-5b51996f1abb  a3768a07-4e2d-4075-ab6b-66e3541fc6c4   \n",
       "\n",
       "  organizationcountrycode                            locationid AssetType  \\\n",
       "0                      US                      Default Location       UPS   \n",
       "1                      US                      Default Location       UPS   \n",
       "2                      US  275102b5-af38-456c-982b-7a6d33850e13       UPS   \n",
       "3                      US  275102b5-af38-456c-982b-7a6d33850e13       UPS   \n",
       "4                      US  275102b5-af38-456c-982b-7a6d33850e13       UPS   \n",
       "\n",
       "                         AlarmLabel  \\\n",
       "0  Battery Near End Of Life Cleared   \n",
       "1             Power Failure Cleared   \n",
       "2        Device Communication Alert   \n",
       "3        Device Communication Alert   \n",
       "4        Device Communication Alert   \n",
       "\n",
       "                                        AlarmMessage  Severity  \\\n",
       "0     The battery is no longer near the end of life.   WARNING   \n",
       "1                        No longer on battery power.   WARNING   \n",
       "2  Communication with the UPS \\\"redact\\\" has been...  CRITICAL   \n",
       "3  Communication with the UPS \\\"redact\\\" has been...  CRITICAL   \n",
       "4  Communication with the UPS \\\"redact\\\" has been...  CRITICAL   \n",
       "\n",
       "     ActivatedTimestamp      ClearedTimestamp  month  week  \\\n",
       "0  2021-01-17T23:32:55Z  2021-03-16T14:37:52Z    1.0     3   \n",
       "1  2021-01-08T20:55:56Z  2021-01-08T20:56:19Z    1.0     2   \n",
       "2  2021-01-08T20:28:05Z  2021-01-08T20:36:14Z    1.0     2   \n",
       "3  2021-01-29T11:51:23Z  2021-01-29T11:56:16Z    1.0     5   \n",
       "4  2021-01-29T09:41:23Z  2021-01-29T09:46:22Z    1.0     5   \n",
       "\n",
       "   ResolutionTimeMinutes                         Lemmas_No_Stop_Words  \\\n",
       "0           82984.950000  ['battery', 'near', 'end', 'life', 'clear']   \n",
       "1               0.383333                ['power', 'failure', 'clear']   \n",
       "2               8.150000         ['device', 'communication', 'alert']   \n",
       "3               4.883333         ['device', 'communication', 'alert']   \n",
       "4               4.983333         ['device', 'communication', 'alert']   \n",
       "\n",
       "                                              Tokens  \n",
       "0  ['battery', 'near', 'end', 'of', 'life', 'clea...  \n",
       "1                    ['power', 'failure', 'cleared']  \n",
       "2               ['device', 'communication', 'alert']  \n",
       "3               ['device', 'communication', 'alert']  \n",
       "4               ['device', 'communication', 'alert']  "
      ]
     },
     "execution_count": 3,
     "metadata": {},
     "output_type": "execute_result"
    }
   ],
   "source": [
    "df.head()"
   ]
  },
  {
   "cell_type": "code",
   "execution_count": 4,
   "id": "e6979c27-10fb-497f-a17d-eca819977978",
   "metadata": {},
   "outputs": [
    {
     "name": "stdout",
     "output_type": "stream",
     "text": [
      "<class 'pandas.core.frame.DataFrame'>\n",
      "RangeIndex: 34813823 entries, 0 to 34813822\n",
      "Data columns (total 15 columns):\n",
      " #   Column                   Dtype  \n",
      "---  ------                   -----  \n",
      " 0   AssetId                  object \n",
      " 1   organizationid           object \n",
      " 2   organizationcountrycode  object \n",
      " 3   locationid               object \n",
      " 4   AssetType                object \n",
      " 5   AlarmLabel               object \n",
      " 6   AlarmMessage             object \n",
      " 7   Severity                 object \n",
      " 8   ActivatedTimestamp       object \n",
      " 9   ClearedTimestamp         object \n",
      " 10  month                    float64\n",
      " 11  week                     int64  \n",
      " 12  ResolutionTimeMinutes    float64\n",
      " 13  Lemmas_No_Stop_Words     object \n",
      " 14  Tokens                   object \n",
      "dtypes: float64(2), int64(1), object(12)\n",
      "memory usage: 3.9+ GB\n",
      "None\n"
     ]
    }
   ],
   "source": [
    "# Display data information\n",
    "print(df.info())"
   ]
  },
  {
   "cell_type": "code",
   "execution_count": 5,
   "id": "d99957e2-9420-4d20-8107-7fcaf657b18a",
   "metadata": {},
   "outputs": [
    {
     "name": "stdout",
     "output_type": "stream",
     "text": [
      "                                AssetId                        organizationid  \\\n",
      "0  001e6d91-324b-4b99-84f8-9435148de9ce  5effecae-fdee-494a-bf38-d4cb5d7cc405   \n",
      "1  001e6d91-324b-4b99-84f8-9435148de9ce  5effecae-fdee-494a-bf38-d4cb5d7cc405   \n",
      "2  004209ba-f692-41b8-af30-5b51996f1abb  a3768a07-4e2d-4075-ab6b-66e3541fc6c4   \n",
      "3  004209ba-f692-41b8-af30-5b51996f1abb  a3768a07-4e2d-4075-ab6b-66e3541fc6c4   \n",
      "4  004209ba-f692-41b8-af30-5b51996f1abb  a3768a07-4e2d-4075-ab6b-66e3541fc6c4   \n",
      "\n",
      "  organizationcountrycode                            locationid AssetType  \\\n",
      "0                      US                      Default Location       UPS   \n",
      "1                      US                      Default Location       UPS   \n",
      "2                      US  275102b5-af38-456c-982b-7a6d33850e13       UPS   \n",
      "3                      US  275102b5-af38-456c-982b-7a6d33850e13       UPS   \n",
      "4                      US  275102b5-af38-456c-982b-7a6d33850e13       UPS   \n",
      "\n",
      "                         AlarmLabel  \\\n",
      "0  Battery Near End Of Life Cleared   \n",
      "1             Power Failure Cleared   \n",
      "2        Device Communication Alert   \n",
      "3        Device Communication Alert   \n",
      "4        Device Communication Alert   \n",
      "\n",
      "                                        AlarmMessage  Severity  \\\n",
      "0     The battery is no longer near the end of life.   WARNING   \n",
      "1                        No longer on battery power.   WARNING   \n",
      "2  Communication with the UPS \\\"redact\\\" has been...  CRITICAL   \n",
      "3  Communication with the UPS \\\"redact\\\" has been...  CRITICAL   \n",
      "4  Communication with the UPS \\\"redact\\\" has been...  CRITICAL   \n",
      "\n",
      "     ActivatedTimestamp      ClearedTimestamp  month  week  \\\n",
      "0  2021-01-17T23:32:55Z  2021-03-16T14:37:52Z    1.0     3   \n",
      "1  2021-01-08T20:55:56Z  2021-01-08T20:56:19Z    1.0     2   \n",
      "2  2021-01-08T20:28:05Z  2021-01-08T20:36:14Z    1.0     2   \n",
      "3  2021-01-29T11:51:23Z  2021-01-29T11:56:16Z    1.0     5   \n",
      "4  2021-01-29T09:41:23Z  2021-01-29T09:46:22Z    1.0     5   \n",
      "\n",
      "   ResolutionTimeMinutes                         Lemmas_No_Stop_Words  \\\n",
      "0           82984.950000  ['battery', 'near', 'end', 'life', 'clear']   \n",
      "1               0.383333                ['power', 'failure', 'clear']   \n",
      "2               8.150000         ['device', 'communication', 'alert']   \n",
      "3               4.883333         ['device', 'communication', 'alert']   \n",
      "4               4.983333         ['device', 'communication', 'alert']   \n",
      "\n",
      "                                              Tokens  \n",
      "0  ['battery', 'near', 'end', 'of', 'life', 'clea...  \n",
      "1                    ['power', 'failure', 'cleared']  \n",
      "2               ['device', 'communication', 'alert']  \n",
      "3               ['device', 'communication', 'alert']  \n",
      "4               ['device', 'communication', 'alert']  \n"
     ]
    }
   ],
   "source": [
    "# Display the processed data\n",
    "print(df.head())"
   ]
  },
  {
   "cell_type": "code",
   "execution_count": 6,
   "id": "c58b6126-67a4-4618-bb7b-381405f7f8cc",
   "metadata": {},
   "outputs": [
    {
     "name": "stdout",
     "output_type": "stream",
     "text": [
      "Defaulting to user installation because normal site-packages is not writeable\n",
      "Requirement already satisfied: catboost in ./.local/lib/python3.9/site-packages (1.2.5)\n",
      "Requirement already satisfied: plotly in /shared/centos7/anaconda3/2022.05/lib/python3.9/site-packages (from catboost) (5.6.0)\n",
      "Requirement already satisfied: six in /shared/centos7/anaconda3/2022.05/lib/python3.9/site-packages (from catboost) (1.16.0)\n",
      "Requirement already satisfied: scipy in /shared/centos7/anaconda3/2022.05/lib/python3.9/site-packages (from catboost) (1.7.3)\n",
      "Requirement already satisfied: graphviz in ./.local/lib/python3.9/site-packages (from catboost) (0.20.3)\n",
      "Requirement already satisfied: pandas>=0.24 in /shared/centos7/anaconda3/2022.05/lib/python3.9/site-packages (from catboost) (1.4.2)\n",
      "Requirement already satisfied: numpy>=1.16.0 in /shared/centos7/anaconda3/2022.05/lib/python3.9/site-packages (from catboost) (1.21.5)\n",
      "Requirement already satisfied: matplotlib in /shared/centos7/anaconda3/2022.05/lib/python3.9/site-packages (from catboost) (3.5.1)\n",
      "Requirement already satisfied: python-dateutil>=2.8.1 in /shared/centos7/anaconda3/2022.05/lib/python3.9/site-packages (from pandas>=0.24->catboost) (2.8.2)\n",
      "Requirement already satisfied: pytz>=2020.1 in /shared/centos7/anaconda3/2022.05/lib/python3.9/site-packages (from pandas>=0.24->catboost) (2021.3)\n",
      "Requirement already satisfied: cycler>=0.10 in /shared/centos7/anaconda3/2022.05/lib/python3.9/site-packages (from matplotlib->catboost) (0.11.0)\n",
      "Requirement already satisfied: pyparsing>=2.2.1 in /shared/centos7/anaconda3/2022.05/lib/python3.9/site-packages (from matplotlib->catboost) (3.0.4)\n",
      "Requirement already satisfied: kiwisolver>=1.0.1 in /shared/centos7/anaconda3/2022.05/lib/python3.9/site-packages (from matplotlib->catboost) (1.3.2)\n",
      "Requirement already satisfied: fonttools>=4.22.0 in /shared/centos7/anaconda3/2022.05/lib/python3.9/site-packages (from matplotlib->catboost) (4.25.0)\n",
      "Requirement already satisfied: packaging>=20.0 in /shared/centos7/anaconda3/2022.05/lib/python3.9/site-packages (from matplotlib->catboost) (21.3)\n",
      "Requirement already satisfied: pillow>=6.2.0 in /shared/centos7/anaconda3/2022.05/lib/python3.9/site-packages (from matplotlib->catboost) (9.0.1)\n",
      "Requirement already satisfied: tenacity>=6.2.0 in /shared/centos7/anaconda3/2022.05/lib/python3.9/site-packages (from plotly->catboost) (8.0.1)\n"
     ]
    }
   ],
   "source": [
    "!pip install catboost"
   ]
  },
  {
   "cell_type": "code",
   "execution_count": 7,
   "id": "0d23316a-6462-4501-b8ad-922bd8a3e2fd",
   "metadata": {},
   "outputs": [],
   "source": [
    "# Sample 10,000 rows\n",
    "df_sample = df.sample(n=10000, random_state=42)"
   ]
  },
  {
   "cell_type": "code",
   "execution_count": 8,
   "id": "942db3c0-d12d-4097-a010-5e11d171583d",
   "metadata": {},
   "outputs": [],
   "source": [
    "# Preprocessing\n",
    "X = df[['AssetType', 'AlarmLabel']].copy()\n",
    "y = df['Severity']  # Target variable"
   ]
  },
  {
   "cell_type": "code",
   "execution_count": 9,
   "id": "50464702-3525-4f9b-9881-3c27138faa24",
   "metadata": {},
   "outputs": [],
   "source": [
    "# Convert target variable to numeric\n",
    "severity_mapping = {'INFO': 0, 'WARNING': 1, 'ERROR': 2, 'FAIL': 3, 'CRITICAL': 4}\n",
    "y = y.map(severity_mapping)"
   ]
  },
  {
   "cell_type": "code",
   "execution_count": 10,
   "id": "bb3c2488-32b1-46ab-b117-8ba232b22f6d",
   "metadata": {},
   "outputs": [],
   "source": [
    "# Split the data\n",
    "X_train, X_test, y_train, y_test = train_test_split(X, y, test_size=0.2, random_state=42)"
   ]
  },
  {
   "cell_type": "code",
   "execution_count": 11,
   "id": "99f7c43a-38ab-4453-bca8-f42b81df8a16",
   "metadata": {},
   "outputs": [],
   "source": [
    "# Define categorical features indices\n",
    "categorical_features_indices = [0, 1]"
   ]
  },
  {
   "cell_type": "code",
   "execution_count": 12,
   "id": "609bcd28-7f9a-4360-a1e5-0c5437abdc64",
   "metadata": {},
   "outputs": [
    {
     "name": "stderr",
     "output_type": "stream",
     "text": [
      "TBB Warning: The number of workers is currently limited to 7. The request for 47 workers is ignored. Further requests for more workers will be silently ignored until the limit changes.\n",
      "\n"
     ]
    },
    {
     "name": "stdout",
     "output_type": "stream",
     "text": [
      "0:\tlearn: 1.3250462\ttotal: 22.5s\tremaining: 37m 11s\n",
      "10:\tlearn: 0.5796538\ttotal: 2m 48s\tremaining: 22m 43s\n",
      "20:\tlearn: 0.4280902\ttotal: 5m 9s\tremaining: 19m 23s\n",
      "30:\tlearn: 0.3795896\ttotal: 7m 29s\tremaining: 16m 41s\n",
      "40:\tlearn: 0.3620545\ttotal: 9m 49s\tremaining: 14m 7s\n",
      "50:\tlearn: 0.3547560\ttotal: 12m 9s\tremaining: 11m 41s\n",
      "60:\tlearn: 0.3514124\ttotal: 14m 28s\tremaining: 9m 15s\n",
      "70:\tlearn: 0.3496215\ttotal: 16m 51s\tremaining: 6m 53s\n",
      "80:\tlearn: 0.3482289\ttotal: 19m 16s\tremaining: 4m 31s\n",
      "90:\tlearn: 0.3473349\ttotal: 21m 37s\tremaining: 2m 8s\n",
      "99:\tlearn: 0.3463874\ttotal: 23m 46s\tremaining: 0us\n"
     ]
    },
    {
     "data": {
      "text/plain": [
       "<catboost.core.CatBoostClassifier at 0x2b93921d17c0>"
      ]
     },
     "execution_count": 12,
     "metadata": {},
     "output_type": "execute_result"
    }
   ],
   "source": [
    "# Train the model\n",
    "model = CatBoostClassifier(iterations=100, depth=6, learning_rate=0.1, loss_function='MultiClass', thread_count=7, verbose=10)\n",
    "model.fit(X_train, y_train, cat_features=categorical_features_indices)"
   ]
  },
  {
   "cell_type": "code",
   "execution_count": 13,
   "id": "52ba83de-0ed7-4466-be6d-abcc24f9afb7",
   "metadata": {},
   "outputs": [],
   "source": [
    "# Predict on the test data\n",
    "y_pred = model.predict(X_test)\n",
    "y_pred = y_pred.astype(int).flatten()"
   ]
  },
  {
   "cell_type": "code",
   "execution_count": 14,
   "id": "6b66b0c8-5113-44b8-a50d-71d96a542d92",
   "metadata": {},
   "outputs": [
    {
     "name": "stdout",
     "output_type": "stream",
     "text": [
      "Accuracy: 0.8826461901270544\n",
      "Classification Report:\n",
      "               precision    recall  f1-score   support\n",
      "\n",
      "           0       0.70      0.85      0.77    676070\n",
      "           1       0.99      0.87      0.93   2228326\n",
      "           2       0.63      0.86      0.73    689446\n",
      "           3       0.75      0.84      0.80    362795\n",
      "           4       0.96      0.91      0.94   3006128\n",
      "\n",
      "    accuracy                           0.88   6962765\n",
      "   macro avg       0.81      0.87      0.83   6962765\n",
      "weighted avg       0.90      0.88      0.89   6962765\n",
      "\n"
     ]
    }
   ],
   "source": [
    "# Evaluate the model\n",
    "accuracy = accuracy_score(y_test, y_pred)\n",
    "report = classification_report(y_test, y_pred)\n",
    "cm = confusion_matrix(y_test, y_pred)\n",
    "\n",
    "print(\"Accuracy:\", accuracy)\n",
    "print(\"Classification Report:\\n\", report)"
   ]
  },
  {
   "cell_type": "code",
   "execution_count": 15,
   "id": "00169fae-088c-4e22-beaa-cd0af35d3368",
   "metadata": {},
   "outputs": [
    {
     "data": {
      "image/png": "[encoded data removed]",
      "text/plain": [
       "<Figure size 720x504 with 2 Axes>"
      ]
     },
     "metadata": {
      "needs_background": "light"
     },
     "output_type": "display_data"
    }
   ],
   "source": [
    "# Plot confusion matrix\n",
    "plt.figure(figsize=(10,7))\n",
    "sns.heatmap(cm, annot=True, fmt='d', cmap='Blues', xticklabels=severity_mapping.keys(), yticklabels=severity_mapping.keys())\n",
    "plt.xlabel('Predicted')\n",
    "plt.ylabel('Actual')\n",
    "plt.title('Confusion Matrix')\n",
    "plt.show()"
   ]
  },
  {
   "cell_type": "code",
   "execution_count": 16,
   "id": "39b3752c-7ed2-4ad2-83aa-d9b4d62973be",
   "metadata": {},
   "outputs": [
    {
     "data": {
      "image/png": "[encoded data removed]",
      "text/plain": [
       "<Figure size 720x504 with 1 Axes>"
      ]
     },
     "metadata": {
      "needs_background": "light"
     },
     "output_type": "display_data"
    }
   ],
   "source": [
    "# Plot feature importance\n",
    "feature_importances = model.get_feature_importance()\n",
    "sorted_idx = feature_importances.argsort()\n",
    "plt.figure(figsize=(10,7))\n",
    "plt.barh([X.columns[i] for i in sorted_idx], feature_importances[sorted_idx])\n",
    "plt.xlabel(\"CatBoost Feature Importance\")\n",
    "plt.title(\"Feature Importance\")\n",
    "plt.show()"
   ]
  }
 ],
 "metadata": {
  "kernelspec": {
   "display_name": "Python 3",
   "language": "python",
   "name": "python3"
  },
  "language_info": {
   "codemirror_mode": {
    "name": "ipython",
    "version": 3
   },
   "file_extension": ".py",
   "mimetype": "text/x-python",
   "name": "python",
   "nbconvert_exporter": "python",
   "pygments_lexer": "ipython3",
   "version": "3.9.12"
  }
 },
 "nbformat": 4,
 "nbformat_minor": 5
}
